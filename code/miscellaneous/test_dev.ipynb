{
 "cells": [
  {
   "cell_type": "code",
   "execution_count": 93,
   "metadata": {},
   "outputs": [],
   "source": [
    "#!/usr/bin/env python3\n",
    "\n",
    "import math\n",
    "\n",
    "import numpy as np\n",
    "import torch\n",
    "import torch.nn as nn \n",
    "\n",
    "\n",
    "from gpytorch.utils.broadcasting import _pad_with_singletons\n",
    "\n",
    "\n",
    "class GaussHermiteQuadrature1D(nn.Module):\n",
    "    \"\"\"\n",
    "    Implements Gauss-Hermite quadrature for integrating a function with respect to several 1D Gaussian distributions\n",
    "    in batch mode. Within GPyTorch, this is useful primarily for computing expected log likelihoods for variational\n",
    "    inference.\n",
    "\n",
    "    This is implemented as a Module because Gauss-Hermite quadrature has a set of locations and weights that it\n",
    "    should initialize one time, but that should obey parent calls to .cuda(), .double() etc.\n",
    "    \"\"\"\n",
    "\n",
    "    def __init__(self, num_locs=156):\n",
    "        super().__init__()\n",
    "        self.num_locs = num_locs\n",
    "\n",
    "        locations, weights = self._locs_and_weights(num_locs)\n",
    "\n",
    "        self.locations = locations\n",
    "        self.weights = weights\n",
    "\n",
    "    def _apply(self, fn):\n",
    "        self.locations = fn(self.locations)\n",
    "        self.weights = fn(self.weights)\n",
    "        return super(GaussHermiteQuadrature1D, self)._apply(fn)\n",
    "\n",
    "    def _locs_and_weights(self, num_locs):\n",
    "        \"\"\"\n",
    "        Get locations and weights for Gauss-Hermite quadrature. Note that this is **not** intended to be used\n",
    "        externally, because it directly creates tensors with no knowledge of a device or dtype to cast to.\n",
    "\n",
    "        Instead, create a GaussHermiteQuadrature1D object and get the locations and weights from buffers.\n",
    "        \"\"\"\n",
    "        locations, weights = np.polynomial.legendre.leggauss(1000)\n",
    "        locations = torch.Tensor(locations)\n",
    "        weights = torch.Tensor(weights)\n",
    "        return locations, weights\n",
    "\n",
    "    def forward(self, func, a=0,b=1):\n",
    "        \"\"\"\n",
    "        Runs Gauss-Hermite quadrature on the callable func, integrating against the Gaussian distributions specified\n",
    "        by gaussian_dists.\n",
    "\n",
    "        Args:\n",
    "            - func (callable): Function to integrate\n",
    "            - gaussian_dists (Distribution): Either a MultivariateNormal whose covariance is assumed to be diagonal\n",
    "                or a :obj:`torch.distributions.Normal`.\n",
    "        Returns:\n",
    "            - Result of integrating func against each univariate Gaussian in gaussian_dists.\n",
    "        \"\"\"\n",
    "        lower_bound = torch.Tensor([a])\n",
    "        higher_bound =  torch.Tensor([b])\n",
    "\n",
    "        locations = _pad_with_singletons(self.locations, num_singletons_before=0, num_singletons_after=lower_bound.dim())\n",
    "        t = 0.5*(locations + 1)*(higher_bound - lower_bound) + lower_bound\n",
    "\n",
    "        x1 = t\n",
    "        fx = func(x1)\n",
    "        weights = _pad_with_singletons(self.weights, num_singletons_before=0, num_singletons_after=fx.dim() - 1)\n",
    "        #res = torch.dot(fx,self.weights) #\n",
    "        \"\"\"shifted_locs = 0.5 * (locations + 1)*(variances-means) + means\n",
    "        log_probs = func(shifted_locs)\n",
    "        weights = _pad_with_singletons(self.weights, num_singletons_before=0, num_singletons_after=log_probs.dim() - 1)\n",
    "        \"\"\"\n",
    "        res = (fx * weights)\n",
    "        res = res.sum(tuple(range(self.locations.dim())))\n",
    "\n",
    "        return res * 0.5 * (higher_bound - lower_bound)\n",
    "    \n"
   ]
  },
  {
   "cell_type": "code",
   "execution_count": 94,
   "metadata": {},
   "outputs": [
    {
     "name": "stdout",
     "output_type": "stream",
     "text": [
      "[0.33333333]\n",
      "0.3333333333333368\n"
     ]
    },
    {
     "data": {
      "text/plain": [
       "(0.33333333333333337, 3.700743415417189e-15)"
      ]
     },
     "execution_count": 94,
     "metadata": {},
     "output_type": "execute_result"
    }
   ],
   "source": [
    "f=lambda x : x**2\n",
    "\n",
    "from scipy.integrate import quad\n",
    "x,w = np.polynomial.legendre.leggauss(156)\n",
    "#x,w = np.polynomial.hermite.hermgauss(156)\n",
    "t = 0.5*(x + 1)*(1 - 0) + 0\n",
    "gauss = 0\n",
    "x1 = np.array([t.T])\n",
    "fx = np.asarray(f(x1))\n",
    "\n",
    "print(np.dot(fx, w)*0.5)\n",
    "for i in range(len(t)):\n",
    "    gauss = gauss + w[i] * f(x[i])\n",
    "print(gauss* 0.5*(1 - 0))\n",
    "quad(f, 0, 1)\n"
   ]
  },
  {
   "cell_type": "code",
   "execution_count": 95,
   "metadata": {},
   "outputs": [
    {
     "name": "stdout",
     "output_type": "stream",
     "text": [
      "0.3333333333333345\n"
     ]
    }
   ],
   "source": [
    "a=0\n",
    "b=1\n",
    "deg = 156\n",
    "x, w = np.polynomial.legendre.leggauss(deg)\n",
    "# Translate x values from the interval [-1, 1] to [a, b]\n",
    "t = 0.5*(x + 1)*(b - a) + a\n",
    "gauss = sum(w * f(t)) * 0.5*(b - a)\n",
    "print(gauss)"
   ]
  },
  {
   "cell_type": "code",
   "execution_count": 96,
   "metadata": {},
   "outputs": [
    {
     "name": "stdout",
     "output_type": "stream",
     "text": [
      "tensor([0.31657910346984863281, 0.47011446952819824219], requires_grad=True)\n"
     ]
    }
   ],
   "source": [
    "from torch.autograd import Variable\n",
    "X=Variable(torch.rand((2)),requires_grad=True)\n",
    "print(X)\n",
    "g = lambda x : x**2 + X[0]**2 + X[1]**2\n",
    "gg = GaussHermiteQuadrature1D()\n",
    "res = gg.forward(g)"
   ]
  },
  {
   "cell_type": "code",
   "execution_count": 97,
   "metadata": {},
   "outputs": [
    {
     "data": {
      "text/plain": [
       "tensor([[0.63315820693969726562, 0.94022893905639648438]],\n",
       "       grad_fn=<CopySlices>)"
      ]
     },
     "execution_count": 97,
     "metadata": {},
     "output_type": "execute_result"
    }
   ],
   "source": [
    "jacobian = Jacobian()\n",
    "jacobian(X,res.unsqueeze(1))"
   ]
  },
  {
   "cell_type": "code",
   "execution_count": 98,
   "metadata": {},
   "outputs": [],
   "source": [
    "from complex import *"
   ]
  },
  {
   "cell_type": "code",
   "execution_count": 99,
   "metadata": {},
   "outputs": [],
   "source": [
    "def tanC(X):\n",
    "    X = Complex(X,torch.zeros(X.size()))\n",
    "    return ((X**4 - (X**2 * 16) + X * 5) * 0.5).re.sum(axis=-1)"
   ]
  },
  {
   "cell_type": "code",
   "execution_count": 100,
   "metadata": {},
   "outputs": [],
   "source": [
    "def StyblinskiTangNN(X):\n",
    "    return (0.5 * (torch.pow(X,4) - 16 * torch.pow(X,2) + 5 * X)).sum(axis=-1)"
   ]
  },
  {
   "cell_type": "code",
   "execution_count": 101,
   "metadata": {},
   "outputs": [
    {
     "name": "stdout",
     "output_type": "stream",
     "text": [
      "tensor([ 603.66601562500000000000, 2181.36108398437500000000],\n",
      "       grad_fn=<SumBackward1>)\n",
      "tensor([ 603.66601562500000000000, 2181.36108398437500000000],\n",
      "       grad_fn=<SumBackward1>)\n"
     ]
    }
   ],
   "source": [
    "import random\n",
    "from torch.autograd import Variable\n",
    "X = Variable(8*torch.rand((2, 5)),requires_grad=True)\n",
    "print(tanC(X))\n",
    "print(StyblinskiTangNN(X))"
   ]
  },
  {
   "cell_type": "code",
   "execution_count": null,
   "metadata": {},
   "outputs": [],
   "source": []
  },
  {
   "cell_type": "code",
   "execution_count": 102,
   "metadata": {},
   "outputs": [],
   "source": [
    "def phi(u,kappa_,S0_,r_,tau_,theta_,rho_,sigma_,V0_):\n",
    "    gamma_ = np.sqrt((sigma_**2)*(u**2+u*1j)+(kappa_-1j*rho_*sigma_*u)**2)\n",
    "    a = 1j*u*np.log(S0_) + 1j*u*r_*tau_+kappa_*theta_*tau_*(kappa_-1j*rho_*sigma_*u)/(sigma_**2)\n",
    "    b = (u**2+1j*u)*V0_/(gamma_*np.cosh(gamma_*tau_/2)/np.sinh(gamma_*tau_/2)+kappa_-1j*rho_*sigma_*u)\n",
    "    c = np.cosh(gamma_*tau_/2)+((kappa_-1j*rho_*sigma_*u)/gamma_)*np.sinh(gamma_*tau_/2)\n",
    "    d = 2*kappa_*theta_/(sigma_**2)\n",
    "    return np.exp(a)*np.exp(-b)/(c**d)\n"
   ]
  },
  {
   "cell_type": "code",
   "execution_count": 103,
   "metadata": {},
   "outputs": [
    {
     "data": {
      "text/plain": [
       "(0.9838261582136327-0.007584806771239272j)"
      ]
     },
     "execution_count": 103,
     "metadata": {},
     "output_type": "execute_result"
    }
   ],
   "source": [
    "phi(1,2,1,0.01,0.8,0.04,-0.7,0.1,0.04)"
   ]
  },
  {
   "cell_type": "code",
   "execution_count": 104,
   "metadata": {},
   "outputs": [],
   "source": [
    "def Csqrt(nb_complex):\n",
    "    real_ = torch.sqrt(nb_complex.real)\n",
    "    imag_ = torch.sqrt(nb_complex.imag)\n",
    "    comp = Complex(real_,imag_)\n",
    "    return comp"
   ]
  },
  {
   "cell_type": "code",
   "execution_count": 105,
   "metadata": {},
   "outputs": [],
   "source": [
    "def TorchPhi(u,kappa_,S0_,r_,tau_,theta_,rho_,sigma_,V0_):\n",
    "    size = kappa_.size()\n",
    "    gamma_ = (Complex(u ** 2,u)*((torch.pow(sigma_,2)))+(Complex(kappa_,u*-1*rho_*sigma_)**2))**(1/2)\n",
    "    a = Complex(torch.zeros(size,dtype=torch.float64),u*torch.log(S0_)) + Complex(torch.zeros(size,dtype=torch.float64),u*r_*tau_) + (Complex(kappa_,torch.zeros(kappa_.size(),dtype=torch.float64)) - Complex(torch.zeros(size,dtype=torch.float64),u*rho_*sigma_))*(kappa_*theta_*tau_)*(1/(sigma_**2))\n",
    "    b = Complex((u**2)*V0_,u*V0_).div(gamma_ * TorchCosh((gamma_*tau_)*(1/2)).div(TorchSinh((gamma_*tau_)*(1/2))) + (Complex(kappa_,torch.zeros(kappa_.size()))- Complex(torch.zeros(size),rho_*sigma_*u))  )\n",
    "    c = TorchCosh((gamma_*tau_)*(1/2)) + (Complex(kappa_,torch.zeros(kappa_.size()))- Complex(torch.zeros(size),rho_*sigma_*u)).div(gamma_)*TorchSinh((gamma_*tau_)*(1/2)) \n",
    "    d = 2*kappa_*theta_/(sigma_**2)\n",
    "    return Torchexp(a) * Torchexp(-b)*(c**d)**(-1)"
   ]
  },
  {
   "cell_type": "code",
   "execution_count": 106,
   "metadata": {},
   "outputs": [
    {
     "data": {
      "text/plain": [
       "Complex(tensor([0.98382615821363128550], dtype=torch.float64), tensor([-0.00758480677123868352], dtype=torch.float64))"
      ]
     },
     "execution_count": 106,
     "metadata": {},
     "output_type": "execute_result"
    }
   ],
   "source": [
    "TorchPhi(torch.DoubleTensor([1]),torch.DoubleTensor([2]),torch.DoubleTensor([1]),torch.DoubleTensor([0.01]),\n",
    "         torch.DoubleTensor([0.8]),torch.DoubleTensor([0.04]),torch.DoubleTensor([-0.7]),torch.DoubleTensor([0.1]),torch.DoubleTensor([0.04]))"
   ]
  },
  {
   "cell_type": "code",
   "execution_count": 107,
   "metadata": {},
   "outputs": [],
   "source": [
    "def psi(nu_,alpha_,K_,kappa_,S0_,r_,tau_,theta_,rho_,sigma_,V0_):\n",
    "    k_ = np.log(K_)\n",
    "    F = phi(nu_-1j*(alpha_+1),kappa_,S0_,r_,tau_,theta_,rho_,sigma_,V0_)*np.exp(-1j*nu_*k_)\n",
    "    d = (alpha_+1j*nu_)*(alpha_+1+1j*nu_)\n",
    "    return np.exp(-r_*tau_-alpha_*k_)/np.pi*(F/d).real\n"
   ]
  },
  {
   "cell_type": "code",
   "execution_count": 108,
   "metadata": {},
   "outputs": [
    {
     "data": {
      "text/plain": [
       "-0.08136154279218144"
      ]
     },
     "execution_count": 108,
     "metadata": {},
     "output_type": "execute_result"
    }
   ],
   "source": [
    "psi(1,0.1,0.8,2,1,0.01,0.8,0.04,-0.7,0.1,0.04)"
   ]
  },
  {
   "cell_type": "code",
   "execution_count": 109,
   "metadata": {},
   "outputs": [],
   "source": [
    "def TorchPsi(nu_,alpha_,K_,kappa_,S0_,r_,tau_,theta_,rho_,sigma_,V0_):\n",
    "    k_ = torch.log(K_)\n",
    "    F = TorchPhi(Complex(nu_,torch.ones(nu_.size())*-(alpha_+1)),kappa_,S0_,r_,tau_,theta_,rho_,sigma_,V0_) * Torchexp(Complex(torch.zeros(nu_.size()),-nu_*k_))\n",
    "    d = Complex(alpha_,nu_) * Complex(alpha_+1,nu_)\n",
    "    return ((torch.exp(-r_*tau_-alpha_*k_)/math.pi)*(F.div(d))).re"
   ]
  },
  {
   "cell_type": "code",
   "execution_count": 110,
   "metadata": {},
   "outputs": [
    {
     "data": {
      "text/plain": [
       "tensor([-0.08136154274221486793, -0.08136154274221486793], dtype=torch.float64)"
      ]
     },
     "execution_count": 110,
     "metadata": {},
     "output_type": "execute_result"
    }
   ],
   "source": [
    "TorchPsi(torch.DoubleTensor([1,1]),0.1,torch.DoubleTensor([0.8,0.8]),torch.DoubleTensor([2,2]),torch.DoubleTensor([1,1]),torch.DoubleTensor([0.01,0.01]),\n",
    "         torch.DoubleTensor([0.8,0.8]),torch.DoubleTensor([0.04,0.04]),torch.DoubleTensor([-0.7,-0.7]),torch.DoubleTensor([0.1,0.1]),torch.DoubleTensor([0.04,0.04]))"
   ]
  },
  {
   "cell_type": "code",
   "execution_count": 111,
   "metadata": {},
   "outputs": [],
   "source": [
    "def price_heston_fourier(alpha_,K_,kappa_,S0_,r_,tau_,theta_,rho_,sigma_,V0_,L_):\n",
    "    x,w = np.polynomial.legendre.leggauss(1000)\n",
    "    f = lambda nu_: psi(nu_,alpha_,K_,kappa_,S0_,r_,tau_,theta_,rho_,sigma_,V0_)\n",
    "    t = 0.5*(x + 1)*(L_ - 0) + 0\n",
    "    \n",
    "    x1 = np.array([t.T])\n",
    "    fx = np.asarray(f(x1))\n",
    "\n",
    "    I = np.dot(fx, w)*0.5*(L_-0)\n",
    "    J = quad(lambda nu_: psi(nu_,alpha_,K_,kappa_,S0_,r_,tau_,theta_,rho_,sigma_,V0_) , 0, L_)\n",
    "    return I[0], J[0]"
   ]
  },
  {
   "cell_type": "code",
   "execution_count": 112,
   "metadata": {},
   "outputs": [
    {
     "data": {
      "text/plain": [
       "(15.361951052954073, 15.361951053089967)"
      ]
     },
     "execution_count": 112,
     "metadata": {},
     "output_type": "execute_result"
    }
   ],
   "source": [
    "price_heston_fourier(0.1,85,1,100,0.02,0.25,0.1,-0.7,0.1,0.04,10)\n",
    "#K_=i,alpha_=0.1,r_=0.01,tau_=.5,kappa_=1,S0_=100,theta_=0.1,rho_=-0.7,sigma_=0.1,V0_=0.04,L_=100"
   ]
  },
  {
   "cell_type": "code",
   "execution_count": 113,
   "metadata": {},
   "outputs": [
    {
     "data": {
      "text/plain": [
       "\"from numpy import meshgrid, sqrt, diff\\nfrom numpy import inf, pi, exp, linspace, zeros, real, imag, array, log\\nfrom scipy.stats import norm\\nfrom scipy.integrate import quad\\n# from bsm import bsmprice\\n\\n\\ndef heston_phi(k, tau, *parms):\\n\\n\\tv, vbar, lambd, eta, rho = parms\\n\\t\\n\\tb = lambd + 1j*rho*eta*k\\n\\td = sqrt( b**2 + (eta**2)*k*(k-1j) )\\n\\tg = (b - d)/(b + d)\\n\\tT_m = (b - d)/(eta**2)\\n\\tT = T_m * ( 1 - exp(-d*tau) )/( 1 - g*exp(-d*tau) )\\n\\tW = lambd * vbar * ( tau*T_m - 2*log( ( 1 - g*exp(-d*tau) )/( 1 - g ) )/(eta**2) )\\n\\t\\n\\treturn exp(W + v*T)\\n\\n\\ndef heston_phi_transform(tau, x, *parms):\\n\\tintegrand = lambda k: 2 * real( exp(-1j*k*x) * heston_phi(k + 0.5*1j, tau, *parms) )/(k**2 + 1.0/4.0)\\n\\treturn quad(integrand, 0, 1000)[0]\\n\\n\\ndef heston_ucall(F, K, tau, *parms):\\n\\t'''Heston call'''\\n\\tx = log(F/K)\\n\\treturn F - (sqrt(K*F)/(2*pi)) * heston_phi_transform(tau, x, *parms)\\n\\n\\ndef heston_call(S, K, tau, r, q, *parms):\\n\\t'''Heston call'''\\n\\tF = S*exp((r-q)*tau)\\n\\tx = log(F/K)\\n\\tintegral = heston_phi_transform(tau, x, *parms)\\n\\treturn S * exp(-q*tau) - K * exp(-r*tau) * heston_ucall(F, K, tau, *parms)\""
      ]
     },
     "execution_count": 113,
     "metadata": {},
     "output_type": "execute_result"
    }
   ],
   "source": [
    "\"\"\"from numpy import meshgrid, sqrt, diff\n",
    "from numpy import inf, pi, exp, linspace, zeros, real, imag, array, log\n",
    "from scipy.stats import norm\n",
    "from scipy.integrate import quad\n",
    "# from bsm import bsmprice\n",
    "\n",
    "\n",
    "def heston_phi(k, tau, *parms):\n",
    "\n",
    "\tv, vbar, lambd, eta, rho = parms\n",
    "\t\n",
    "\tb = lambd + 1j*rho*eta*k\n",
    "\td = sqrt( b**2 + (eta**2)*k*(k-1j) )\n",
    "\tg = (b - d)/(b + d)\n",
    "\tT_m = (b - d)/(eta**2)\n",
    "\tT = T_m * ( 1 - exp(-d*tau) )/( 1 - g*exp(-d*tau) )\n",
    "\tW = lambd * vbar * ( tau*T_m - 2*log( ( 1 - g*exp(-d*tau) )/( 1 - g ) )/(eta**2) )\n",
    "\t\n",
    "\treturn exp(W + v*T)\n",
    "\n",
    "\n",
    "def heston_phi_transform(tau, x, *parms):\n",
    "\tintegrand = lambda k: 2 * real( exp(-1j*k*x) * heston_phi(k + 0.5*1j, tau, *parms) )/(k**2 + 1.0/4.0)\n",
    "\treturn quad(integrand, 0, 1000)[0]\n",
    "\n",
    "\n",
    "def heston_ucall(F, K, tau, *parms):\n",
    "\t'''Heston call'''\n",
    "\tx = log(F/K)\n",
    "\treturn F - (sqrt(K*F)/(2*pi)) * heston_phi_transform(tau, x, *parms)\n",
    "\n",
    "\n",
    "def heston_call(S, K, tau, r, q, *parms):\n",
    "\t'''Heston call'''\n",
    "\tF = S*exp((r-q)*tau)\n",
    "\tx = log(F/K)\n",
    "\tintegral = heston_phi_transform(tau, x, *parms)\n",
    "\treturn S * exp(-q*tau) - K * exp(-r*tau) * heston_ucall(F, K, tau, *parms)\"\"\""
   ]
  },
  {
   "cell_type": "code",
   "execution_count": 114,
   "metadata": {},
   "outputs": [
    {
     "ename": "NameError",
     "evalue": "name 'heston_phi' is not defined",
     "output_type": "error",
     "traceback": [
      "\u001b[0;31m---------------------------------------------------------------------------\u001b[0m",
      "\u001b[0;31mNameError\u001b[0m                                 Traceback (most recent call last)",
      "\u001b[0;32m<ipython-input-114-8deb78f11a99>\u001b[0m in \u001b[0;36m<module>\u001b[0;34m\u001b[0m\n\u001b[0;32m----> 1\u001b[0;31m \u001b[0mheston_phi\u001b[0m\u001b[0;34m(\u001b[0m\u001b[0mlog\u001b[0m\u001b[0;34m(\u001b[0m\u001b[0;36m0.8\u001b[0m\u001b[0;34m)\u001b[0m\u001b[0;34m,\u001b[0m\u001b[0;36m0.8\u001b[0m\u001b[0;34m,\u001b[0m\u001b[0;36m0.04\u001b[0m\u001b[0;34m,\u001b[0m\u001b[0;36m0.1\u001b[0m\u001b[0;34m,\u001b[0m\u001b[0;36m2\u001b[0m\u001b[0;34m,\u001b[0m\u001b[0;36m0.1\u001b[0m\u001b[0;34m,\u001b[0m\u001b[0;34m-\u001b[0m\u001b[0;36m0.7\u001b[0m\u001b[0;34m)\u001b[0m\u001b[0;34m\u001b[0m\u001b[0;34m\u001b[0m\u001b[0m\n\u001b[0m",
      "\u001b[0;31mNameError\u001b[0m: name 'heston_phi' is not defined"
     ]
    }
   ],
   "source": [
    "heston_phi(log(0.8),0.8,0.04,0.1,2,0.1,-0.7)"
   ]
  },
  {
   "cell_type": "code",
   "execution_count": 115,
   "metadata": {},
   "outputs": [],
   "source": [
    "def TorchHestonFourier(alpha_,K_,kappa_,S0_,r_,tau_,theta_,rho_,sigma_,V0_,L_):\n",
    "    f = lambda nu_: TorchPsi(nu_,alpha_,K_,kappa_,S0_,r_,tau_,theta_,rho_,sigma_,V0_)\n",
    "    gg = GaussHermiteQuadrature1D()\n",
    "    res = gg.forward(f,0,L_)\n",
    "    return res"
   ]
  },
  {
   "cell_type": "code",
   "execution_count": 116,
   "metadata": {},
   "outputs": [],
   "source": [
    "X = Variable(torch.DoubleTensor([\n",
    "    [0.9,2,1,0.01,0.8,0.04,-0.7,0.1,0.04],\n",
    "    [0.8,2,1,0.01,0.8,0.04,-0.7,0.1,0.04]\n",
    "]),requires_grad=True)\n",
    "res=TorchHestonFourier(0.1,X[:,0],X[:,1],X[:,2],X[:,3],X[:,4],X[:,5],X[:,6],X[:,7],X[:,8],1000)"
   ]
  },
  {
   "cell_type": "code",
   "execution_count": 117,
   "metadata": {},
   "outputs": [],
   "source": [
    "from jacobian import Jacobian"
   ]
  },
  {
   "cell_type": "code",
   "execution_count": 118,
   "metadata": {},
   "outputs": [
    {
     "data": {
      "text/plain": [
       "tensor([[[-7.12254643440246582031e-01, -2.34298364375717937946e-04,\n",
       "           7.76405692100524902344e-01,  5.12823343276977539062e-01,\n",
       "           4.07512150704860687256e-02,  3.33460956811904907227e-01,\n",
       "          -1.87207444105297327042e-03,  1.10308416187763214111e-02,\n",
       "           3.37495356798171997070e-01],\n",
       "         [-8.73869001865386962891e-01, -3.10378207359462976456e-04,\n",
       "           9.14401829242706298828e-01,  5.59276163578033447266e-01,\n",
       "           2.56397332996129989624e-02,  1.72182023525238037109e-01,\n",
       "          -2.08160118199884891510e-03,  1.51532730087637901306e-02,\n",
       "           1.78429335355758666992e-01]]], grad_fn=<CopySlices>)"
      ]
     },
     "execution_count": 118,
     "metadata": {},
     "output_type": "execute_result"
    }
   ],
   "source": [
    "#X = Variable(torch.DoubleTensor([0.8,0.8]),requires_grad=True)\n",
    "torch.set_printoptions(20)\n",
    "res = res.unsqueeze(1)\n",
    "jacobian = Jacobian()\n",
    "jacobian(X,res)"
   ]
  },
  {
   "cell_type": "code",
   "execution_count": 119,
   "metadata": {},
   "outputs": [
    {
     "ename": "FloatingPointError",
     "evalue": "underflow encountered in true_divide",
     "output_type": "error",
     "traceback": [
      "\u001b[0;31m---------------------------------------------------------------------------\u001b[0m",
      "\u001b[0;31mFloatingPointError\u001b[0m                        Traceback (most recent call last)",
      "\u001b[0;32m<ipython-input-119-55459f04cb30>\u001b[0m in \u001b[0;36m<module>\u001b[0;34m\u001b[0m\n\u001b[0;32m----> 1\u001b[0;31m \u001b[0ma\u001b[0m \u001b[0;34m=\u001b[0m \u001b[0mprice_heston_fourier\u001b[0m\u001b[0;34m(\u001b[0m\u001b[0;36m0.1\u001b[0m\u001b[0;34m,\u001b[0m\u001b[0;36m0.9\u001b[0m\u001b[0;34m,\u001b[0m\u001b[0;36m2\u001b[0m\u001b[0;34m,\u001b[0m\u001b[0;36m1\u001b[0m\u001b[0;34m,\u001b[0m\u001b[0;36m0.01\u001b[0m\u001b[0;34m,\u001b[0m\u001b[0;36m0.8\u001b[0m\u001b[0;34m,\u001b[0m\u001b[0;36m0.04\u001b[0m\u001b[0;34m,\u001b[0m\u001b[0;34m-\u001b[0m\u001b[0;36m0.7\u001b[0m\u001b[0;34m,\u001b[0m\u001b[0;36m0.1\u001b[0m\u001b[0;34m-\u001b[0m\u001b[0;36m1e-5\u001b[0m\u001b[0;34m,\u001b[0m\u001b[0;36m0.04\u001b[0m\u001b[0;34m,\u001b[0m\u001b[0;36m1000\u001b[0m\u001b[0;34m)\u001b[0m\u001b[0;34m\u001b[0m\u001b[0;34m\u001b[0m\u001b[0m\n\u001b[0m\u001b[1;32m      2\u001b[0m \u001b[0mb\u001b[0m \u001b[0;34m=\u001b[0m \u001b[0mprice_heston_fourier\u001b[0m\u001b[0;34m(\u001b[0m\u001b[0;36m0.1\u001b[0m\u001b[0;34m,\u001b[0m\u001b[0;36m0.9\u001b[0m\u001b[0;34m,\u001b[0m\u001b[0;36m2\u001b[0m\u001b[0;34m,\u001b[0m\u001b[0;36m1\u001b[0m\u001b[0;34m,\u001b[0m\u001b[0;36m0.01\u001b[0m\u001b[0;34m,\u001b[0m\u001b[0;36m0.8\u001b[0m\u001b[0;34m,\u001b[0m\u001b[0;36m0.04\u001b[0m\u001b[0;34m,\u001b[0m\u001b[0;34m-\u001b[0m\u001b[0;36m0.7\u001b[0m\u001b[0;34m,\u001b[0m\u001b[0;36m0.1\u001b[0m\u001b[0;34m+\u001b[0m\u001b[0;36m1e-5\u001b[0m\u001b[0;34m,\u001b[0m\u001b[0;36m0.04\u001b[0m\u001b[0;34m,\u001b[0m\u001b[0;36m1000\u001b[0m\u001b[0;34m)\u001b[0m\u001b[0;34m\u001b[0m\u001b[0;34m\u001b[0m\u001b[0m\n\u001b[1;32m      3\u001b[0m \u001b[0mprint\u001b[0m\u001b[0;34m(\u001b[0m\u001b[0;34m'Derivatives w.r.t sigma {}'\u001b[0m\u001b[0;34m.\u001b[0m\u001b[0mformat\u001b[0m\u001b[0;34m(\u001b[0m\u001b[0;34m(\u001b[0m\u001b[0mb\u001b[0m\u001b[0;34m-\u001b[0m\u001b[0ma\u001b[0m\u001b[0;34m)\u001b[0m\u001b[0;34m/\u001b[0m\u001b[0;36m2e-5\u001b[0m\u001b[0;34m)\u001b[0m\u001b[0;34m)\u001b[0m\u001b[0;34m\u001b[0m\u001b[0;34m\u001b[0m\u001b[0m\n",
      "\u001b[0;32m<ipython-input-111-ea3d7070f4e6>\u001b[0m in \u001b[0;36mprice_heston_fourier\u001b[0;34m(alpha_, K_, kappa_, S0_, r_, tau_, theta_, rho_, sigma_, V0_, L_)\u001b[0m\n\u001b[1;32m      5\u001b[0m \u001b[0;34m\u001b[0m\u001b[0m\n\u001b[1;32m      6\u001b[0m     \u001b[0mx1\u001b[0m \u001b[0;34m=\u001b[0m \u001b[0mnp\u001b[0m\u001b[0;34m.\u001b[0m\u001b[0marray\u001b[0m\u001b[0;34m(\u001b[0m\u001b[0;34m[\u001b[0m\u001b[0mt\u001b[0m\u001b[0;34m.\u001b[0m\u001b[0mT\u001b[0m\u001b[0;34m]\u001b[0m\u001b[0;34m)\u001b[0m\u001b[0;34m\u001b[0m\u001b[0;34m\u001b[0m\u001b[0m\n\u001b[0;32m----> 7\u001b[0;31m     \u001b[0mfx\u001b[0m \u001b[0;34m=\u001b[0m \u001b[0mnp\u001b[0m\u001b[0;34m.\u001b[0m\u001b[0masarray\u001b[0m\u001b[0;34m(\u001b[0m\u001b[0mf\u001b[0m\u001b[0;34m(\u001b[0m\u001b[0mx1\u001b[0m\u001b[0;34m)\u001b[0m\u001b[0;34m)\u001b[0m\u001b[0;34m\u001b[0m\u001b[0;34m\u001b[0m\u001b[0m\n\u001b[0m\u001b[1;32m      8\u001b[0m \u001b[0;34m\u001b[0m\u001b[0m\n\u001b[1;32m      9\u001b[0m     \u001b[0mI\u001b[0m \u001b[0;34m=\u001b[0m \u001b[0mnp\u001b[0m\u001b[0;34m.\u001b[0m\u001b[0mdot\u001b[0m\u001b[0;34m(\u001b[0m\u001b[0mfx\u001b[0m\u001b[0;34m,\u001b[0m \u001b[0mw\u001b[0m\u001b[0;34m)\u001b[0m\u001b[0;34m*\u001b[0m\u001b[0;36m0.5\u001b[0m\u001b[0;34m*\u001b[0m\u001b[0;34m(\u001b[0m\u001b[0mL_\u001b[0m\u001b[0;34m-\u001b[0m\u001b[0;36m0\u001b[0m\u001b[0;34m)\u001b[0m\u001b[0;34m\u001b[0m\u001b[0;34m\u001b[0m\u001b[0m\n",
      "\u001b[0;32m<ipython-input-111-ea3d7070f4e6>\u001b[0m in \u001b[0;36m<lambda>\u001b[0;34m(nu_)\u001b[0m\n\u001b[1;32m      1\u001b[0m \u001b[0;32mdef\u001b[0m \u001b[0mprice_heston_fourier\u001b[0m\u001b[0;34m(\u001b[0m\u001b[0malpha_\u001b[0m\u001b[0;34m,\u001b[0m\u001b[0mK_\u001b[0m\u001b[0;34m,\u001b[0m\u001b[0mkappa_\u001b[0m\u001b[0;34m,\u001b[0m\u001b[0mS0_\u001b[0m\u001b[0;34m,\u001b[0m\u001b[0mr_\u001b[0m\u001b[0;34m,\u001b[0m\u001b[0mtau_\u001b[0m\u001b[0;34m,\u001b[0m\u001b[0mtheta_\u001b[0m\u001b[0;34m,\u001b[0m\u001b[0mrho_\u001b[0m\u001b[0;34m,\u001b[0m\u001b[0msigma_\u001b[0m\u001b[0;34m,\u001b[0m\u001b[0mV0_\u001b[0m\u001b[0;34m,\u001b[0m\u001b[0mL_\u001b[0m\u001b[0;34m)\u001b[0m\u001b[0;34m:\u001b[0m\u001b[0;34m\u001b[0m\u001b[0;34m\u001b[0m\u001b[0m\n\u001b[1;32m      2\u001b[0m     \u001b[0mx\u001b[0m\u001b[0;34m,\u001b[0m\u001b[0mw\u001b[0m \u001b[0;34m=\u001b[0m \u001b[0mnp\u001b[0m\u001b[0;34m.\u001b[0m\u001b[0mpolynomial\u001b[0m\u001b[0;34m.\u001b[0m\u001b[0mlegendre\u001b[0m\u001b[0;34m.\u001b[0m\u001b[0mleggauss\u001b[0m\u001b[0;34m(\u001b[0m\u001b[0;36m1000\u001b[0m\u001b[0;34m)\u001b[0m\u001b[0;34m\u001b[0m\u001b[0;34m\u001b[0m\u001b[0m\n\u001b[0;32m----> 3\u001b[0;31m     \u001b[0mf\u001b[0m \u001b[0;34m=\u001b[0m \u001b[0;32mlambda\u001b[0m \u001b[0mnu_\u001b[0m\u001b[0;34m:\u001b[0m \u001b[0mpsi\u001b[0m\u001b[0;34m(\u001b[0m\u001b[0mnu_\u001b[0m\u001b[0;34m,\u001b[0m\u001b[0malpha_\u001b[0m\u001b[0;34m,\u001b[0m\u001b[0mK_\u001b[0m\u001b[0;34m,\u001b[0m\u001b[0mkappa_\u001b[0m\u001b[0;34m,\u001b[0m\u001b[0mS0_\u001b[0m\u001b[0;34m,\u001b[0m\u001b[0mr_\u001b[0m\u001b[0;34m,\u001b[0m\u001b[0mtau_\u001b[0m\u001b[0;34m,\u001b[0m\u001b[0mtheta_\u001b[0m\u001b[0;34m,\u001b[0m\u001b[0mrho_\u001b[0m\u001b[0;34m,\u001b[0m\u001b[0msigma_\u001b[0m\u001b[0;34m,\u001b[0m\u001b[0mV0_\u001b[0m\u001b[0;34m)\u001b[0m\u001b[0;34m\u001b[0m\u001b[0;34m\u001b[0m\u001b[0m\n\u001b[0m\u001b[1;32m      4\u001b[0m     \u001b[0mt\u001b[0m \u001b[0;34m=\u001b[0m \u001b[0;36m0.5\u001b[0m\u001b[0;34m*\u001b[0m\u001b[0;34m(\u001b[0m\u001b[0mx\u001b[0m \u001b[0;34m+\u001b[0m \u001b[0;36m1\u001b[0m\u001b[0;34m)\u001b[0m\u001b[0;34m*\u001b[0m\u001b[0;34m(\u001b[0m\u001b[0mL_\u001b[0m \u001b[0;34m-\u001b[0m \u001b[0;36m0\u001b[0m\u001b[0;34m)\u001b[0m \u001b[0;34m+\u001b[0m \u001b[0;36m0\u001b[0m\u001b[0;34m\u001b[0m\u001b[0;34m\u001b[0m\u001b[0m\n\u001b[1;32m      5\u001b[0m \u001b[0;34m\u001b[0m\u001b[0m\n",
      "\u001b[0;32m<ipython-input-107-3ad5f2a057ec>\u001b[0m in \u001b[0;36mpsi\u001b[0;34m(nu_, alpha_, K_, kappa_, S0_, r_, tau_, theta_, rho_, sigma_, V0_)\u001b[0m\n\u001b[1;32m      1\u001b[0m \u001b[0;32mdef\u001b[0m \u001b[0mpsi\u001b[0m\u001b[0;34m(\u001b[0m\u001b[0mnu_\u001b[0m\u001b[0;34m,\u001b[0m\u001b[0malpha_\u001b[0m\u001b[0;34m,\u001b[0m\u001b[0mK_\u001b[0m\u001b[0;34m,\u001b[0m\u001b[0mkappa_\u001b[0m\u001b[0;34m,\u001b[0m\u001b[0mS0_\u001b[0m\u001b[0;34m,\u001b[0m\u001b[0mr_\u001b[0m\u001b[0;34m,\u001b[0m\u001b[0mtau_\u001b[0m\u001b[0;34m,\u001b[0m\u001b[0mtheta_\u001b[0m\u001b[0;34m,\u001b[0m\u001b[0mrho_\u001b[0m\u001b[0;34m,\u001b[0m\u001b[0msigma_\u001b[0m\u001b[0;34m,\u001b[0m\u001b[0mV0_\u001b[0m\u001b[0;34m)\u001b[0m\u001b[0;34m:\u001b[0m\u001b[0;34m\u001b[0m\u001b[0;34m\u001b[0m\u001b[0m\n\u001b[1;32m      2\u001b[0m     \u001b[0mk_\u001b[0m \u001b[0;34m=\u001b[0m \u001b[0mnp\u001b[0m\u001b[0;34m.\u001b[0m\u001b[0mlog\u001b[0m\u001b[0;34m(\u001b[0m\u001b[0mK_\u001b[0m\u001b[0;34m)\u001b[0m\u001b[0;34m\u001b[0m\u001b[0;34m\u001b[0m\u001b[0m\n\u001b[0;32m----> 3\u001b[0;31m     \u001b[0mF\u001b[0m \u001b[0;34m=\u001b[0m \u001b[0mphi\u001b[0m\u001b[0;34m(\u001b[0m\u001b[0mnu_\u001b[0m\u001b[0;34m-\u001b[0m\u001b[0;36m1j\u001b[0m\u001b[0;34m*\u001b[0m\u001b[0;34m(\u001b[0m\u001b[0malpha_\u001b[0m\u001b[0;34m+\u001b[0m\u001b[0;36m1\u001b[0m\u001b[0;34m)\u001b[0m\u001b[0;34m,\u001b[0m\u001b[0mkappa_\u001b[0m\u001b[0;34m,\u001b[0m\u001b[0mS0_\u001b[0m\u001b[0;34m,\u001b[0m\u001b[0mr_\u001b[0m\u001b[0;34m,\u001b[0m\u001b[0mtau_\u001b[0m\u001b[0;34m,\u001b[0m\u001b[0mtheta_\u001b[0m\u001b[0;34m,\u001b[0m\u001b[0mrho_\u001b[0m\u001b[0;34m,\u001b[0m\u001b[0msigma_\u001b[0m\u001b[0;34m,\u001b[0m\u001b[0mV0_\u001b[0m\u001b[0;34m)\u001b[0m\u001b[0;34m*\u001b[0m\u001b[0mnp\u001b[0m\u001b[0;34m.\u001b[0m\u001b[0mexp\u001b[0m\u001b[0;34m(\u001b[0m\u001b[0;34m-\u001b[0m\u001b[0;36m1j\u001b[0m\u001b[0;34m*\u001b[0m\u001b[0mnu_\u001b[0m\u001b[0;34m*\u001b[0m\u001b[0mk_\u001b[0m\u001b[0;34m)\u001b[0m\u001b[0;34m\u001b[0m\u001b[0;34m\u001b[0m\u001b[0m\n\u001b[0m\u001b[1;32m      4\u001b[0m     \u001b[0md\u001b[0m \u001b[0;34m=\u001b[0m \u001b[0;34m(\u001b[0m\u001b[0malpha_\u001b[0m\u001b[0;34m+\u001b[0m\u001b[0;36m1j\u001b[0m\u001b[0;34m*\u001b[0m\u001b[0mnu_\u001b[0m\u001b[0;34m)\u001b[0m\u001b[0;34m*\u001b[0m\u001b[0;34m(\u001b[0m\u001b[0malpha_\u001b[0m\u001b[0;34m+\u001b[0m\u001b[0;36m1\u001b[0m\u001b[0;34m+\u001b[0m\u001b[0;36m1j\u001b[0m\u001b[0;34m*\u001b[0m\u001b[0mnu_\u001b[0m\u001b[0;34m)\u001b[0m\u001b[0;34m\u001b[0m\u001b[0;34m\u001b[0m\u001b[0m\n\u001b[1;32m      5\u001b[0m     \u001b[0;32mreturn\u001b[0m \u001b[0mnp\u001b[0m\u001b[0;34m.\u001b[0m\u001b[0mexp\u001b[0m\u001b[0;34m(\u001b[0m\u001b[0;34m-\u001b[0m\u001b[0mr_\u001b[0m\u001b[0;34m*\u001b[0m\u001b[0mtau_\u001b[0m\u001b[0;34m-\u001b[0m\u001b[0malpha_\u001b[0m\u001b[0;34m*\u001b[0m\u001b[0mk_\u001b[0m\u001b[0;34m)\u001b[0m\u001b[0;34m/\u001b[0m\u001b[0mnp\u001b[0m\u001b[0;34m.\u001b[0m\u001b[0mpi\u001b[0m\u001b[0;34m*\u001b[0m\u001b[0;34m(\u001b[0m\u001b[0mF\u001b[0m\u001b[0;34m/\u001b[0m\u001b[0md\u001b[0m\u001b[0;34m)\u001b[0m\u001b[0;34m.\u001b[0m\u001b[0mreal\u001b[0m\u001b[0;34m\u001b[0m\u001b[0;34m\u001b[0m\u001b[0m\n",
      "\u001b[0;32m<ipython-input-102-4daf40410c32>\u001b[0m in \u001b[0;36mphi\u001b[0;34m(u, kappa_, S0_, r_, tau_, theta_, rho_, sigma_, V0_)\u001b[0m\n\u001b[1;32m      5\u001b[0m     \u001b[0mc\u001b[0m \u001b[0;34m=\u001b[0m \u001b[0mnp\u001b[0m\u001b[0;34m.\u001b[0m\u001b[0mcosh\u001b[0m\u001b[0;34m(\u001b[0m\u001b[0mgamma_\u001b[0m\u001b[0;34m*\u001b[0m\u001b[0mtau_\u001b[0m\u001b[0;34m/\u001b[0m\u001b[0;36m2\u001b[0m\u001b[0;34m)\u001b[0m\u001b[0;34m+\u001b[0m\u001b[0;34m(\u001b[0m\u001b[0;34m(\u001b[0m\u001b[0mkappa_\u001b[0m\u001b[0;34m-\u001b[0m\u001b[0;36m1j\u001b[0m\u001b[0;34m*\u001b[0m\u001b[0mrho_\u001b[0m\u001b[0;34m*\u001b[0m\u001b[0msigma_\u001b[0m\u001b[0;34m*\u001b[0m\u001b[0mu\u001b[0m\u001b[0;34m)\u001b[0m\u001b[0;34m/\u001b[0m\u001b[0mgamma_\u001b[0m\u001b[0;34m)\u001b[0m\u001b[0;34m*\u001b[0m\u001b[0mnp\u001b[0m\u001b[0;34m.\u001b[0m\u001b[0msinh\u001b[0m\u001b[0;34m(\u001b[0m\u001b[0mgamma_\u001b[0m\u001b[0;34m*\u001b[0m\u001b[0mtau_\u001b[0m\u001b[0;34m/\u001b[0m\u001b[0;36m2\u001b[0m\u001b[0;34m)\u001b[0m\u001b[0;34m\u001b[0m\u001b[0;34m\u001b[0m\u001b[0m\n\u001b[1;32m      6\u001b[0m     \u001b[0md\u001b[0m \u001b[0;34m=\u001b[0m \u001b[0;36m2\u001b[0m\u001b[0;34m*\u001b[0m\u001b[0mkappa_\u001b[0m\u001b[0;34m*\u001b[0m\u001b[0mtheta_\u001b[0m\u001b[0;34m/\u001b[0m\u001b[0;34m(\u001b[0m\u001b[0msigma_\u001b[0m\u001b[0;34m**\u001b[0m\u001b[0;36m2\u001b[0m\u001b[0;34m)\u001b[0m\u001b[0;34m\u001b[0m\u001b[0;34m\u001b[0m\u001b[0m\n\u001b[0;32m----> 7\u001b[0;31m     \u001b[0;32mreturn\u001b[0m \u001b[0mnp\u001b[0m\u001b[0;34m.\u001b[0m\u001b[0mexp\u001b[0m\u001b[0;34m(\u001b[0m\u001b[0ma\u001b[0m\u001b[0;34m)\u001b[0m\u001b[0;34m*\u001b[0m\u001b[0mnp\u001b[0m\u001b[0;34m.\u001b[0m\u001b[0mexp\u001b[0m\u001b[0;34m(\u001b[0m\u001b[0;34m-\u001b[0m\u001b[0mb\u001b[0m\u001b[0;34m)\u001b[0m\u001b[0;34m/\u001b[0m\u001b[0;34m(\u001b[0m\u001b[0mc\u001b[0m\u001b[0;34m**\u001b[0m\u001b[0md\u001b[0m\u001b[0;34m)\u001b[0m\u001b[0;34m\u001b[0m\u001b[0;34m\u001b[0m\u001b[0m\n\u001b[0m",
      "\u001b[0;31mFloatingPointError\u001b[0m: underflow encountered in true_divide"
     ]
    }
   ],
   "source": [
    "a = price_heston_fourier(0.1,0.9,2,1,0.01,0.8,0.04,-0.7,0.1-1e-5,0.04,1000)\n",
    "b = price_heston_fourier(0.1,0.9,2,1,0.01,0.8,0.04,-0.7,0.1+1e-5,0.04,1000)\n",
    "print('Derivatives w.r.t sigma {}'.format((b-a)/2e-5))"
   ]
  },
  {
   "cell_type": "code",
   "execution_count": 120,
   "metadata": {},
   "outputs": [
    {
     "name": "stdout",
     "output_type": "stream",
     "text": [
      "        rho     kappa     theta     sigma        V0         K    S    T     r\n",
      "0 -0.432033  0.107787  0.119479  0.200008  0.393657  1.258110  1.0  0.8  0.01\n",
      "1 -0.119619  1.623339  0.183953  0.333236  0.374372  1.242856  1.0  0.8  0.01\n",
      "2 -0.299656  1.175966  0.062628  0.248367  0.442251  0.988256  1.0  0.8  0.01\n",
      "3 -0.162127  0.204167  0.237252  0.243942  0.110359  0.729402  1.0  0.8  0.01\n",
      "4 -0.216987  0.214322  0.205209  0.292142  0.443907  0.917386  1.0  0.8  0.01\n"
     ]
    }
   ],
   "source": [
    "# Standard library imports\n",
    "import os\n",
    "import sys\n",
    "import random\n",
    "\n",
    "# Important directories\n",
    "code_dir = os.path.dirname(os.getcwd())\n",
    "deep_cal_dir = os.path.dirname(os.path.dirname(os.getcwd()))\n",
    "# Allows to import my own module\n",
    "sys.path.insert(0, code_dir)\n",
    "from ann.helpers import open_data\n",
    "import pandas as pd\n",
    "\n",
    "K_min = 90\n",
    "S_min = 100\n",
    "tau_min = 80\n",
    "rho_min = -95\n",
    "rho_max = -0.05\n",
    "kappa_min = 10\n",
    "kappa_max = 200.0\n",
    "nu_min = 1\n",
    "nu_max = 40\n",
    "gamma_min = 10\n",
    "gamma_max = 40\n",
    "v_min = 5\n",
    "v_max = 50\n",
    "K_min  = 70\n",
    "K_max = 130\n",
    "min_ = [rho_min,kappa_min,nu_min,gamma_min,v_min,K_min,S_min,tau_min,1]\n",
    "max_ = [rho_max,kappa_max,nu_max,gamma_max,v_max,K_max,S_min,tau_min,1]\n",
    "sample_heston = np.random.uniform(low=min_, high=max_, size=(2000,9))/100\n",
    "\n",
    "value_ = {'rho':sample_heston[:,0],'kappa':sample_heston[:,1],'theta':sample_heston[:,2],  'sigma':sample_heston[:,3], \n",
    "          'V0':sample_heston[:,4],'K':sample_heston[:,5],'S':sample_heston[:,6],'T':sample_heston[:,7],'r':sample_heston[:,8]}\n",
    "database = pd.DataFrame(value_)\n",
    "\n",
    "database.to_csv('data/tmp_heston.csv',index=False)\n",
    "\n",
    "data = open_data('data/tmp_heston.csv')\n",
    "print(data.head())\n",
    "data = data.to_numpy()\n",
    "data = torch.Tensor(data)\n",
    "train_data = Variable(data[:50],requires_grad=True)\n",
    "train_data1 = data[:50].numpy()"
   ]
  },
  {
   "cell_type": "code",
   "execution_count": 121,
   "metadata": {},
   "outputs": [
    {
     "ename": "TypeError",
     "evalue": "log(): argument 'input' (position 1) must be Tensor, not float",
     "output_type": "error",
     "traceback": [
      "\u001b[0;31m---------------------------------------------------------------------------\u001b[0m",
      "\u001b[0;31mTypeError\u001b[0m                                 Traceback (most recent call last)",
      "\u001b[0;32m<ipython-input-121-c030a6701adb>\u001b[0m in \u001b[0;36m<module>\u001b[0;34m\u001b[0m\n\u001b[0;32m----> 1\u001b[0;31m \u001b[0mres\u001b[0m\u001b[0;34m=\u001b[0m\u001b[0mTorchHestonFourier\u001b[0m\u001b[0;34m(\u001b[0m\u001b[0;36m0.1\u001b[0m\u001b[0;34m,\u001b[0m\u001b[0mtrain_data\u001b[0m\u001b[0;34m[\u001b[0m\u001b[0;34m:\u001b[0m\u001b[0;34m,\u001b[0m\u001b[0;36m5\u001b[0m\u001b[0;34m]\u001b[0m\u001b[0;34m,\u001b[0m\u001b[0mtrain_data\u001b[0m\u001b[0;34m[\u001b[0m\u001b[0;34m:\u001b[0m\u001b[0;34m,\u001b[0m\u001b[0;36m1\u001b[0m\u001b[0;34m]\u001b[0m\u001b[0;34m,\u001b[0m\u001b[0;36m1.0\u001b[0m\u001b[0;34m,\u001b[0m\u001b[0mtrain_data\u001b[0m\u001b[0;34m[\u001b[0m\u001b[0;34m:\u001b[0m\u001b[0;34m,\u001b[0m\u001b[0;36m8\u001b[0m\u001b[0;34m]\u001b[0m\u001b[0;34m,\u001b[0m\u001b[0mtrain_data\u001b[0m\u001b[0;34m[\u001b[0m\u001b[0;34m:\u001b[0m\u001b[0;34m,\u001b[0m\u001b[0;36m7\u001b[0m\u001b[0;34m]\u001b[0m\u001b[0;34m,\u001b[0m\u001b[0mtrain_data\u001b[0m\u001b[0;34m[\u001b[0m\u001b[0;34m:\u001b[0m\u001b[0;34m,\u001b[0m\u001b[0;36m2\u001b[0m\u001b[0;34m]\u001b[0m\u001b[0;34m,\u001b[0m\u001b[0mtrain_data\u001b[0m\u001b[0;34m[\u001b[0m\u001b[0;34m:\u001b[0m\u001b[0;34m,\u001b[0m\u001b[0;36m0\u001b[0m\u001b[0;34m]\u001b[0m\u001b[0;34m,\u001b[0m\u001b[0mtrain_data\u001b[0m\u001b[0;34m[\u001b[0m\u001b[0;34m:\u001b[0m\u001b[0;34m,\u001b[0m\u001b[0;36m3\u001b[0m\u001b[0;34m]\u001b[0m\u001b[0;34m,\u001b[0m\u001b[0mtrain_data\u001b[0m\u001b[0;34m[\u001b[0m\u001b[0;34m:\u001b[0m\u001b[0;34m,\u001b[0m\u001b[0;36m4\u001b[0m\u001b[0;34m]\u001b[0m\u001b[0;34m,\u001b[0m\u001b[0;36m100\u001b[0m\u001b[0;34m)\u001b[0m\u001b[0;34m\u001b[0m\u001b[0;34m\u001b[0m\u001b[0m\n\u001b[0m",
      "\u001b[0;32m<ipython-input-115-b01e3bd76b73>\u001b[0m in \u001b[0;36mTorchHestonFourier\u001b[0;34m(alpha_, K_, kappa_, S0_, r_, tau_, theta_, rho_, sigma_, V0_, L_)\u001b[0m\n\u001b[1;32m      2\u001b[0m     \u001b[0mf\u001b[0m \u001b[0;34m=\u001b[0m \u001b[0;32mlambda\u001b[0m \u001b[0mnu_\u001b[0m\u001b[0;34m:\u001b[0m \u001b[0mTorchPsi\u001b[0m\u001b[0;34m(\u001b[0m\u001b[0mnu_\u001b[0m\u001b[0;34m,\u001b[0m\u001b[0malpha_\u001b[0m\u001b[0;34m,\u001b[0m\u001b[0mK_\u001b[0m\u001b[0;34m,\u001b[0m\u001b[0mkappa_\u001b[0m\u001b[0;34m,\u001b[0m\u001b[0mS0_\u001b[0m\u001b[0;34m,\u001b[0m\u001b[0mr_\u001b[0m\u001b[0;34m,\u001b[0m\u001b[0mtau_\u001b[0m\u001b[0;34m,\u001b[0m\u001b[0mtheta_\u001b[0m\u001b[0;34m,\u001b[0m\u001b[0mrho_\u001b[0m\u001b[0;34m,\u001b[0m\u001b[0msigma_\u001b[0m\u001b[0;34m,\u001b[0m\u001b[0mV0_\u001b[0m\u001b[0;34m)\u001b[0m\u001b[0;34m\u001b[0m\u001b[0;34m\u001b[0m\u001b[0m\n\u001b[1;32m      3\u001b[0m     \u001b[0mgg\u001b[0m \u001b[0;34m=\u001b[0m \u001b[0mGaussHermiteQuadrature1D\u001b[0m\u001b[0;34m(\u001b[0m\u001b[0;34m)\u001b[0m\u001b[0;34m\u001b[0m\u001b[0;34m\u001b[0m\u001b[0m\n\u001b[0;32m----> 4\u001b[0;31m     \u001b[0mres\u001b[0m \u001b[0;34m=\u001b[0m \u001b[0mgg\u001b[0m\u001b[0;34m.\u001b[0m\u001b[0mforward\u001b[0m\u001b[0;34m(\u001b[0m\u001b[0mf\u001b[0m\u001b[0;34m,\u001b[0m\u001b[0;36m0\u001b[0m\u001b[0;34m,\u001b[0m\u001b[0mL_\u001b[0m\u001b[0;34m)\u001b[0m\u001b[0;34m\u001b[0m\u001b[0;34m\u001b[0m\u001b[0m\n\u001b[0m\u001b[1;32m      5\u001b[0m     \u001b[0;32mreturn\u001b[0m \u001b[0mres\u001b[0m\u001b[0;34m\u001b[0m\u001b[0;34m\u001b[0m\u001b[0m\n",
      "\u001b[0;32m<ipython-input-93-b42eb1a0541b>\u001b[0m in \u001b[0;36mforward\u001b[0;34m(self, func, a, b)\u001b[0m\n\u001b[1;32m     66\u001b[0m \u001b[0;34m\u001b[0m\u001b[0m\n\u001b[1;32m     67\u001b[0m         \u001b[0mx1\u001b[0m \u001b[0;34m=\u001b[0m \u001b[0mt\u001b[0m\u001b[0;34m\u001b[0m\u001b[0;34m\u001b[0m\u001b[0m\n\u001b[0;32m---> 68\u001b[0;31m         \u001b[0mfx\u001b[0m \u001b[0;34m=\u001b[0m \u001b[0mfunc\u001b[0m\u001b[0;34m(\u001b[0m\u001b[0mx1\u001b[0m\u001b[0;34m)\u001b[0m\u001b[0;34m\u001b[0m\u001b[0;34m\u001b[0m\u001b[0m\n\u001b[0m\u001b[1;32m     69\u001b[0m         \u001b[0mweights\u001b[0m \u001b[0;34m=\u001b[0m \u001b[0m_pad_with_singletons\u001b[0m\u001b[0;34m(\u001b[0m\u001b[0mself\u001b[0m\u001b[0;34m.\u001b[0m\u001b[0mweights\u001b[0m\u001b[0;34m,\u001b[0m \u001b[0mnum_singletons_before\u001b[0m\u001b[0;34m=\u001b[0m\u001b[0;36m0\u001b[0m\u001b[0;34m,\u001b[0m \u001b[0mnum_singletons_after\u001b[0m\u001b[0;34m=\u001b[0m\u001b[0mfx\u001b[0m\u001b[0;34m.\u001b[0m\u001b[0mdim\u001b[0m\u001b[0;34m(\u001b[0m\u001b[0;34m)\u001b[0m \u001b[0;34m-\u001b[0m \u001b[0;36m1\u001b[0m\u001b[0;34m)\u001b[0m\u001b[0;34m\u001b[0m\u001b[0;34m\u001b[0m\u001b[0m\n\u001b[1;32m     70\u001b[0m         \u001b[0;31m#res = torch.dot(fx,self.weights) #\u001b[0m\u001b[0;34m\u001b[0m\u001b[0;34m\u001b[0m\u001b[0;34m\u001b[0m\u001b[0m\n",
      "\u001b[0;32m<ipython-input-115-b01e3bd76b73>\u001b[0m in \u001b[0;36m<lambda>\u001b[0;34m(nu_)\u001b[0m\n\u001b[1;32m      1\u001b[0m \u001b[0;32mdef\u001b[0m \u001b[0mTorchHestonFourier\u001b[0m\u001b[0;34m(\u001b[0m\u001b[0malpha_\u001b[0m\u001b[0;34m,\u001b[0m\u001b[0mK_\u001b[0m\u001b[0;34m,\u001b[0m\u001b[0mkappa_\u001b[0m\u001b[0;34m,\u001b[0m\u001b[0mS0_\u001b[0m\u001b[0;34m,\u001b[0m\u001b[0mr_\u001b[0m\u001b[0;34m,\u001b[0m\u001b[0mtau_\u001b[0m\u001b[0;34m,\u001b[0m\u001b[0mtheta_\u001b[0m\u001b[0;34m,\u001b[0m\u001b[0mrho_\u001b[0m\u001b[0;34m,\u001b[0m\u001b[0msigma_\u001b[0m\u001b[0;34m,\u001b[0m\u001b[0mV0_\u001b[0m\u001b[0;34m,\u001b[0m\u001b[0mL_\u001b[0m\u001b[0;34m)\u001b[0m\u001b[0;34m:\u001b[0m\u001b[0;34m\u001b[0m\u001b[0;34m\u001b[0m\u001b[0m\n\u001b[0;32m----> 2\u001b[0;31m     \u001b[0mf\u001b[0m \u001b[0;34m=\u001b[0m \u001b[0;32mlambda\u001b[0m \u001b[0mnu_\u001b[0m\u001b[0;34m:\u001b[0m \u001b[0mTorchPsi\u001b[0m\u001b[0;34m(\u001b[0m\u001b[0mnu_\u001b[0m\u001b[0;34m,\u001b[0m\u001b[0malpha_\u001b[0m\u001b[0;34m,\u001b[0m\u001b[0mK_\u001b[0m\u001b[0;34m,\u001b[0m\u001b[0mkappa_\u001b[0m\u001b[0;34m,\u001b[0m\u001b[0mS0_\u001b[0m\u001b[0;34m,\u001b[0m\u001b[0mr_\u001b[0m\u001b[0;34m,\u001b[0m\u001b[0mtau_\u001b[0m\u001b[0;34m,\u001b[0m\u001b[0mtheta_\u001b[0m\u001b[0;34m,\u001b[0m\u001b[0mrho_\u001b[0m\u001b[0;34m,\u001b[0m\u001b[0msigma_\u001b[0m\u001b[0;34m,\u001b[0m\u001b[0mV0_\u001b[0m\u001b[0;34m)\u001b[0m\u001b[0;34m\u001b[0m\u001b[0;34m\u001b[0m\u001b[0m\n\u001b[0m\u001b[1;32m      3\u001b[0m     \u001b[0mgg\u001b[0m \u001b[0;34m=\u001b[0m \u001b[0mGaussHermiteQuadrature1D\u001b[0m\u001b[0;34m(\u001b[0m\u001b[0;34m)\u001b[0m\u001b[0;34m\u001b[0m\u001b[0;34m\u001b[0m\u001b[0m\n\u001b[1;32m      4\u001b[0m     \u001b[0mres\u001b[0m \u001b[0;34m=\u001b[0m \u001b[0mgg\u001b[0m\u001b[0;34m.\u001b[0m\u001b[0mforward\u001b[0m\u001b[0;34m(\u001b[0m\u001b[0mf\u001b[0m\u001b[0;34m,\u001b[0m\u001b[0;36m0\u001b[0m\u001b[0;34m,\u001b[0m\u001b[0mL_\u001b[0m\u001b[0;34m)\u001b[0m\u001b[0;34m\u001b[0m\u001b[0;34m\u001b[0m\u001b[0m\n\u001b[1;32m      5\u001b[0m     \u001b[0;32mreturn\u001b[0m \u001b[0mres\u001b[0m\u001b[0;34m\u001b[0m\u001b[0;34m\u001b[0m\u001b[0m\n",
      "\u001b[0;32m<ipython-input-109-e5ff239799a9>\u001b[0m in \u001b[0;36mTorchPsi\u001b[0;34m(nu_, alpha_, K_, kappa_, S0_, r_, tau_, theta_, rho_, sigma_, V0_)\u001b[0m\n\u001b[1;32m      1\u001b[0m \u001b[0;32mdef\u001b[0m \u001b[0mTorchPsi\u001b[0m\u001b[0;34m(\u001b[0m\u001b[0mnu_\u001b[0m\u001b[0;34m,\u001b[0m\u001b[0malpha_\u001b[0m\u001b[0;34m,\u001b[0m\u001b[0mK_\u001b[0m\u001b[0;34m,\u001b[0m\u001b[0mkappa_\u001b[0m\u001b[0;34m,\u001b[0m\u001b[0mS0_\u001b[0m\u001b[0;34m,\u001b[0m\u001b[0mr_\u001b[0m\u001b[0;34m,\u001b[0m\u001b[0mtau_\u001b[0m\u001b[0;34m,\u001b[0m\u001b[0mtheta_\u001b[0m\u001b[0;34m,\u001b[0m\u001b[0mrho_\u001b[0m\u001b[0;34m,\u001b[0m\u001b[0msigma_\u001b[0m\u001b[0;34m,\u001b[0m\u001b[0mV0_\u001b[0m\u001b[0;34m)\u001b[0m\u001b[0;34m:\u001b[0m\u001b[0;34m\u001b[0m\u001b[0;34m\u001b[0m\u001b[0m\n\u001b[1;32m      2\u001b[0m     \u001b[0mk_\u001b[0m \u001b[0;34m=\u001b[0m \u001b[0mtorch\u001b[0m\u001b[0;34m.\u001b[0m\u001b[0mlog\u001b[0m\u001b[0;34m(\u001b[0m\u001b[0mK_\u001b[0m\u001b[0;34m)\u001b[0m\u001b[0;34m\u001b[0m\u001b[0;34m\u001b[0m\u001b[0m\n\u001b[0;32m----> 3\u001b[0;31m     \u001b[0mF\u001b[0m \u001b[0;34m=\u001b[0m \u001b[0mTorchPhi\u001b[0m\u001b[0;34m(\u001b[0m\u001b[0mComplex\u001b[0m\u001b[0;34m(\u001b[0m\u001b[0mnu_\u001b[0m\u001b[0;34m,\u001b[0m\u001b[0mtorch\u001b[0m\u001b[0;34m.\u001b[0m\u001b[0mones\u001b[0m\u001b[0;34m(\u001b[0m\u001b[0mnu_\u001b[0m\u001b[0;34m.\u001b[0m\u001b[0msize\u001b[0m\u001b[0;34m(\u001b[0m\u001b[0;34m)\u001b[0m\u001b[0;34m)\u001b[0m\u001b[0;34m*\u001b[0m\u001b[0;34m-\u001b[0m\u001b[0;34m(\u001b[0m\u001b[0malpha_\u001b[0m\u001b[0;34m+\u001b[0m\u001b[0;36m1\u001b[0m\u001b[0;34m)\u001b[0m\u001b[0;34m)\u001b[0m\u001b[0;34m,\u001b[0m\u001b[0mkappa_\u001b[0m\u001b[0;34m,\u001b[0m\u001b[0mS0_\u001b[0m\u001b[0;34m,\u001b[0m\u001b[0mr_\u001b[0m\u001b[0;34m,\u001b[0m\u001b[0mtau_\u001b[0m\u001b[0;34m,\u001b[0m\u001b[0mtheta_\u001b[0m\u001b[0;34m,\u001b[0m\u001b[0mrho_\u001b[0m\u001b[0;34m,\u001b[0m\u001b[0msigma_\u001b[0m\u001b[0;34m,\u001b[0m\u001b[0mV0_\u001b[0m\u001b[0;34m)\u001b[0m \u001b[0;34m*\u001b[0m \u001b[0mTorchexp\u001b[0m\u001b[0;34m(\u001b[0m\u001b[0mComplex\u001b[0m\u001b[0;34m(\u001b[0m\u001b[0mtorch\u001b[0m\u001b[0;34m.\u001b[0m\u001b[0mzeros\u001b[0m\u001b[0;34m(\u001b[0m\u001b[0mnu_\u001b[0m\u001b[0;34m.\u001b[0m\u001b[0msize\u001b[0m\u001b[0;34m(\u001b[0m\u001b[0;34m)\u001b[0m\u001b[0;34m)\u001b[0m\u001b[0;34m,\u001b[0m\u001b[0;34m-\u001b[0m\u001b[0mnu_\u001b[0m\u001b[0;34m*\u001b[0m\u001b[0mk_\u001b[0m\u001b[0;34m)\u001b[0m\u001b[0;34m)\u001b[0m\u001b[0;34m\u001b[0m\u001b[0;34m\u001b[0m\u001b[0m\n\u001b[0m\u001b[1;32m      4\u001b[0m     \u001b[0md\u001b[0m \u001b[0;34m=\u001b[0m \u001b[0mComplex\u001b[0m\u001b[0;34m(\u001b[0m\u001b[0malpha_\u001b[0m\u001b[0;34m,\u001b[0m\u001b[0mnu_\u001b[0m\u001b[0;34m)\u001b[0m \u001b[0;34m*\u001b[0m \u001b[0mComplex\u001b[0m\u001b[0;34m(\u001b[0m\u001b[0malpha_\u001b[0m\u001b[0;34m+\u001b[0m\u001b[0;36m1\u001b[0m\u001b[0;34m,\u001b[0m\u001b[0mnu_\u001b[0m\u001b[0;34m)\u001b[0m\u001b[0;34m\u001b[0m\u001b[0;34m\u001b[0m\u001b[0m\n\u001b[1;32m      5\u001b[0m     \u001b[0;32mreturn\u001b[0m \u001b[0;34m(\u001b[0m\u001b[0;34m(\u001b[0m\u001b[0mtorch\u001b[0m\u001b[0;34m.\u001b[0m\u001b[0mexp\u001b[0m\u001b[0;34m(\u001b[0m\u001b[0;34m-\u001b[0m\u001b[0mr_\u001b[0m\u001b[0;34m*\u001b[0m\u001b[0mtau_\u001b[0m\u001b[0;34m-\u001b[0m\u001b[0malpha_\u001b[0m\u001b[0;34m*\u001b[0m\u001b[0mk_\u001b[0m\u001b[0;34m)\u001b[0m\u001b[0;34m/\u001b[0m\u001b[0mmath\u001b[0m\u001b[0;34m.\u001b[0m\u001b[0mpi\u001b[0m\u001b[0;34m)\u001b[0m\u001b[0;34m*\u001b[0m\u001b[0;34m(\u001b[0m\u001b[0mF\u001b[0m\u001b[0;34m.\u001b[0m\u001b[0mdiv\u001b[0m\u001b[0;34m(\u001b[0m\u001b[0md\u001b[0m\u001b[0;34m)\u001b[0m\u001b[0;34m)\u001b[0m\u001b[0;34m)\u001b[0m\u001b[0;34m.\u001b[0m\u001b[0mre\u001b[0m\u001b[0;34m\u001b[0m\u001b[0;34m\u001b[0m\u001b[0m\n",
      "\u001b[0;32m<ipython-input-105-8c0ee120fe67>\u001b[0m in \u001b[0;36mTorchPhi\u001b[0;34m(u, kappa_, S0_, r_, tau_, theta_, rho_, sigma_, V0_)\u001b[0m\n\u001b[1;32m      2\u001b[0m     \u001b[0msize\u001b[0m \u001b[0;34m=\u001b[0m \u001b[0mkappa_\u001b[0m\u001b[0;34m.\u001b[0m\u001b[0msize\u001b[0m\u001b[0;34m(\u001b[0m\u001b[0;34m)\u001b[0m\u001b[0;34m\u001b[0m\u001b[0;34m\u001b[0m\u001b[0m\n\u001b[1;32m      3\u001b[0m     \u001b[0mgamma_\u001b[0m \u001b[0;34m=\u001b[0m \u001b[0;34m(\u001b[0m\u001b[0mComplex\u001b[0m\u001b[0;34m(\u001b[0m\u001b[0mu\u001b[0m \u001b[0;34m**\u001b[0m \u001b[0;36m2\u001b[0m\u001b[0;34m,\u001b[0m\u001b[0mu\u001b[0m\u001b[0;34m)\u001b[0m\u001b[0;34m*\u001b[0m\u001b[0;34m(\u001b[0m\u001b[0;34m(\u001b[0m\u001b[0mtorch\u001b[0m\u001b[0;34m.\u001b[0m\u001b[0mpow\u001b[0m\u001b[0;34m(\u001b[0m\u001b[0msigma_\u001b[0m\u001b[0;34m,\u001b[0m\u001b[0;36m2\u001b[0m\u001b[0;34m)\u001b[0m\u001b[0;34m)\u001b[0m\u001b[0;34m)\u001b[0m\u001b[0;34m+\u001b[0m\u001b[0;34m(\u001b[0m\u001b[0mComplex\u001b[0m\u001b[0;34m(\u001b[0m\u001b[0mkappa_\u001b[0m\u001b[0;34m,\u001b[0m\u001b[0mu\u001b[0m\u001b[0;34m*\u001b[0m\u001b[0;34m-\u001b[0m\u001b[0;36m1\u001b[0m\u001b[0;34m*\u001b[0m\u001b[0mrho_\u001b[0m\u001b[0;34m*\u001b[0m\u001b[0msigma_\u001b[0m\u001b[0;34m)\u001b[0m\u001b[0;34m**\u001b[0m\u001b[0;36m2\u001b[0m\u001b[0;34m)\u001b[0m\u001b[0;34m)\u001b[0m\u001b[0;34m**\u001b[0m\u001b[0;34m(\u001b[0m\u001b[0;36m1\u001b[0m\u001b[0;34m/\u001b[0m\u001b[0;36m2\u001b[0m\u001b[0;34m)\u001b[0m\u001b[0;34m\u001b[0m\u001b[0;34m\u001b[0m\u001b[0m\n\u001b[0;32m----> 4\u001b[0;31m     \u001b[0ma\u001b[0m \u001b[0;34m=\u001b[0m \u001b[0mComplex\u001b[0m\u001b[0;34m(\u001b[0m\u001b[0mtorch\u001b[0m\u001b[0;34m.\u001b[0m\u001b[0mzeros\u001b[0m\u001b[0;34m(\u001b[0m\u001b[0msize\u001b[0m\u001b[0;34m,\u001b[0m\u001b[0mdtype\u001b[0m\u001b[0;34m=\u001b[0m\u001b[0mtorch\u001b[0m\u001b[0;34m.\u001b[0m\u001b[0mfloat64\u001b[0m\u001b[0;34m)\u001b[0m\u001b[0;34m,\u001b[0m\u001b[0mu\u001b[0m\u001b[0;34m*\u001b[0m\u001b[0mtorch\u001b[0m\u001b[0;34m.\u001b[0m\u001b[0mlog\u001b[0m\u001b[0;34m(\u001b[0m\u001b[0mS0_\u001b[0m\u001b[0;34m)\u001b[0m\u001b[0;34m)\u001b[0m \u001b[0;34m+\u001b[0m \u001b[0mComplex\u001b[0m\u001b[0;34m(\u001b[0m\u001b[0mtorch\u001b[0m\u001b[0;34m.\u001b[0m\u001b[0mzeros\u001b[0m\u001b[0;34m(\u001b[0m\u001b[0msize\u001b[0m\u001b[0;34m,\u001b[0m\u001b[0mdtype\u001b[0m\u001b[0;34m=\u001b[0m\u001b[0mtorch\u001b[0m\u001b[0;34m.\u001b[0m\u001b[0mfloat64\u001b[0m\u001b[0;34m)\u001b[0m\u001b[0;34m,\u001b[0m\u001b[0mu\u001b[0m\u001b[0;34m*\u001b[0m\u001b[0mr_\u001b[0m\u001b[0;34m*\u001b[0m\u001b[0mtau_\u001b[0m\u001b[0;34m)\u001b[0m \u001b[0;34m+\u001b[0m \u001b[0;34m(\u001b[0m\u001b[0mComplex\u001b[0m\u001b[0;34m(\u001b[0m\u001b[0mkappa_\u001b[0m\u001b[0;34m,\u001b[0m\u001b[0mtorch\u001b[0m\u001b[0;34m.\u001b[0m\u001b[0mzeros\u001b[0m\u001b[0;34m(\u001b[0m\u001b[0mkappa_\u001b[0m\u001b[0;34m.\u001b[0m\u001b[0msize\u001b[0m\u001b[0;34m(\u001b[0m\u001b[0;34m)\u001b[0m\u001b[0;34m,\u001b[0m\u001b[0mdtype\u001b[0m\u001b[0;34m=\u001b[0m\u001b[0mtorch\u001b[0m\u001b[0;34m.\u001b[0m\u001b[0mfloat64\u001b[0m\u001b[0;34m)\u001b[0m\u001b[0;34m)\u001b[0m \u001b[0;34m-\u001b[0m \u001b[0mComplex\u001b[0m\u001b[0;34m(\u001b[0m\u001b[0mtorch\u001b[0m\u001b[0;34m.\u001b[0m\u001b[0mzeros\u001b[0m\u001b[0;34m(\u001b[0m\u001b[0msize\u001b[0m\u001b[0;34m,\u001b[0m\u001b[0mdtype\u001b[0m\u001b[0;34m=\u001b[0m\u001b[0mtorch\u001b[0m\u001b[0;34m.\u001b[0m\u001b[0mfloat64\u001b[0m\u001b[0;34m)\u001b[0m\u001b[0;34m,\u001b[0m\u001b[0mu\u001b[0m\u001b[0;34m*\u001b[0m\u001b[0mrho_\u001b[0m\u001b[0;34m*\u001b[0m\u001b[0msigma_\u001b[0m\u001b[0;34m)\u001b[0m\u001b[0;34m)\u001b[0m\u001b[0;34m*\u001b[0m\u001b[0;34m(\u001b[0m\u001b[0mkappa_\u001b[0m\u001b[0;34m*\u001b[0m\u001b[0mtheta_\u001b[0m\u001b[0;34m*\u001b[0m\u001b[0mtau_\u001b[0m\u001b[0;34m)\u001b[0m\u001b[0;34m*\u001b[0m\u001b[0;34m(\u001b[0m\u001b[0;36m1\u001b[0m\u001b[0;34m/\u001b[0m\u001b[0;34m(\u001b[0m\u001b[0msigma_\u001b[0m\u001b[0;34m**\u001b[0m\u001b[0;36m2\u001b[0m\u001b[0;34m)\u001b[0m\u001b[0;34m)\u001b[0m\u001b[0;34m\u001b[0m\u001b[0;34m\u001b[0m\u001b[0m\n\u001b[0m\u001b[1;32m      5\u001b[0m     \u001b[0mb\u001b[0m \u001b[0;34m=\u001b[0m \u001b[0mComplex\u001b[0m\u001b[0;34m(\u001b[0m\u001b[0;34m(\u001b[0m\u001b[0mu\u001b[0m\u001b[0;34m**\u001b[0m\u001b[0;36m2\u001b[0m\u001b[0;34m)\u001b[0m\u001b[0;34m*\u001b[0m\u001b[0mV0_\u001b[0m\u001b[0;34m,\u001b[0m\u001b[0mu\u001b[0m\u001b[0;34m*\u001b[0m\u001b[0mV0_\u001b[0m\u001b[0;34m)\u001b[0m\u001b[0;34m.\u001b[0m\u001b[0mdiv\u001b[0m\u001b[0;34m(\u001b[0m\u001b[0mgamma_\u001b[0m \u001b[0;34m*\u001b[0m \u001b[0mTorchCosh\u001b[0m\u001b[0;34m(\u001b[0m\u001b[0;34m(\u001b[0m\u001b[0mgamma_\u001b[0m\u001b[0;34m*\u001b[0m\u001b[0mtau_\u001b[0m\u001b[0;34m)\u001b[0m\u001b[0;34m*\u001b[0m\u001b[0;34m(\u001b[0m\u001b[0;36m1\u001b[0m\u001b[0;34m/\u001b[0m\u001b[0;36m2\u001b[0m\u001b[0;34m)\u001b[0m\u001b[0;34m)\u001b[0m\u001b[0;34m.\u001b[0m\u001b[0mdiv\u001b[0m\u001b[0;34m(\u001b[0m\u001b[0mTorchSinh\u001b[0m\u001b[0;34m(\u001b[0m\u001b[0;34m(\u001b[0m\u001b[0mgamma_\u001b[0m\u001b[0;34m*\u001b[0m\u001b[0mtau_\u001b[0m\u001b[0;34m)\u001b[0m\u001b[0;34m*\u001b[0m\u001b[0;34m(\u001b[0m\u001b[0;36m1\u001b[0m\u001b[0;34m/\u001b[0m\u001b[0;36m2\u001b[0m\u001b[0;34m)\u001b[0m\u001b[0;34m)\u001b[0m\u001b[0;34m)\u001b[0m \u001b[0;34m+\u001b[0m \u001b[0;34m(\u001b[0m\u001b[0mComplex\u001b[0m\u001b[0;34m(\u001b[0m\u001b[0mkappa_\u001b[0m\u001b[0;34m,\u001b[0m\u001b[0mtorch\u001b[0m\u001b[0;34m.\u001b[0m\u001b[0mzeros\u001b[0m\u001b[0;34m(\u001b[0m\u001b[0mkappa_\u001b[0m\u001b[0;34m.\u001b[0m\u001b[0msize\u001b[0m\u001b[0;34m(\u001b[0m\u001b[0;34m)\u001b[0m\u001b[0;34m)\u001b[0m\u001b[0;34m)\u001b[0m\u001b[0;34m-\u001b[0m \u001b[0mComplex\u001b[0m\u001b[0;34m(\u001b[0m\u001b[0mtorch\u001b[0m\u001b[0;34m.\u001b[0m\u001b[0mzeros\u001b[0m\u001b[0;34m(\u001b[0m\u001b[0msize\u001b[0m\u001b[0;34m)\u001b[0m\u001b[0;34m,\u001b[0m\u001b[0mrho_\u001b[0m\u001b[0;34m*\u001b[0m\u001b[0msigma_\u001b[0m\u001b[0;34m*\u001b[0m\u001b[0mu\u001b[0m\u001b[0;34m)\u001b[0m\u001b[0;34m)\u001b[0m  \u001b[0;34m)\u001b[0m\u001b[0;34m\u001b[0m\u001b[0;34m\u001b[0m\u001b[0m\n\u001b[1;32m      6\u001b[0m     \u001b[0mc\u001b[0m \u001b[0;34m=\u001b[0m \u001b[0mTorchCosh\u001b[0m\u001b[0;34m(\u001b[0m\u001b[0;34m(\u001b[0m\u001b[0mgamma_\u001b[0m\u001b[0;34m*\u001b[0m\u001b[0mtau_\u001b[0m\u001b[0;34m)\u001b[0m\u001b[0;34m*\u001b[0m\u001b[0;34m(\u001b[0m\u001b[0;36m1\u001b[0m\u001b[0;34m/\u001b[0m\u001b[0;36m2\u001b[0m\u001b[0;34m)\u001b[0m\u001b[0;34m)\u001b[0m \u001b[0;34m+\u001b[0m \u001b[0;34m(\u001b[0m\u001b[0mComplex\u001b[0m\u001b[0;34m(\u001b[0m\u001b[0mkappa_\u001b[0m\u001b[0;34m,\u001b[0m\u001b[0mtorch\u001b[0m\u001b[0;34m.\u001b[0m\u001b[0mzeros\u001b[0m\u001b[0;34m(\u001b[0m\u001b[0mkappa_\u001b[0m\u001b[0;34m.\u001b[0m\u001b[0msize\u001b[0m\u001b[0;34m(\u001b[0m\u001b[0;34m)\u001b[0m\u001b[0;34m)\u001b[0m\u001b[0;34m)\u001b[0m\u001b[0;34m-\u001b[0m \u001b[0mComplex\u001b[0m\u001b[0;34m(\u001b[0m\u001b[0mtorch\u001b[0m\u001b[0;34m.\u001b[0m\u001b[0mzeros\u001b[0m\u001b[0;34m(\u001b[0m\u001b[0msize\u001b[0m\u001b[0;34m)\u001b[0m\u001b[0;34m,\u001b[0m\u001b[0mrho_\u001b[0m\u001b[0;34m*\u001b[0m\u001b[0msigma_\u001b[0m\u001b[0;34m*\u001b[0m\u001b[0mu\u001b[0m\u001b[0;34m)\u001b[0m\u001b[0;34m)\u001b[0m\u001b[0;34m.\u001b[0m\u001b[0mdiv\u001b[0m\u001b[0;34m(\u001b[0m\u001b[0mgamma_\u001b[0m\u001b[0;34m)\u001b[0m\u001b[0;34m*\u001b[0m\u001b[0mTorchSinh\u001b[0m\u001b[0;34m(\u001b[0m\u001b[0;34m(\u001b[0m\u001b[0mgamma_\u001b[0m\u001b[0;34m*\u001b[0m\u001b[0mtau_\u001b[0m\u001b[0;34m)\u001b[0m\u001b[0;34m*\u001b[0m\u001b[0;34m(\u001b[0m\u001b[0;36m1\u001b[0m\u001b[0;34m/\u001b[0m\u001b[0;36m2\u001b[0m\u001b[0;34m)\u001b[0m\u001b[0;34m)\u001b[0m\u001b[0;34m\u001b[0m\u001b[0;34m\u001b[0m\u001b[0m\n",
      "\u001b[0;31mTypeError\u001b[0m: log(): argument 'input' (position 1) must be Tensor, not float"
     ]
    }
   ],
   "source": [
    "res=TorchHestonFourier(0.1,train_data[:,5],train_data[:,1],1.0,train_data[:,8],train_data[:,7],train_data[:,2],train_data[:,0],train_data[:,3],train_data[:,4],100)"
   ]
  },
  {
   "cell_type": "code",
   "execution_count": 122,
   "metadata": {},
   "outputs": [
    {
     "data": {
      "text/plain": [
       "[(0.2628743824413125, 0.26287438244239675),\n",
       " (0.23772536397802277, 0.23772536397904606),\n",
       " (0.24320185011617376, 0.24320185011720483),\n",
       " (0.17705540265152325, 0.17705540265241945),\n",
       " (0.2728457074609856, 0.2728457074621129),\n",
       " (0.21512881855851157, 0.21512881855945934),\n",
       " (0.23654767195980653, 0.2365476719608081),\n",
       " (0.18739644516967974, 0.18739644517059065),\n",
       " (0.26076819579945615, 0.26076819580051463),\n",
       " (0.269011347630708, 0.26901134763179885),\n",
       " (0.27581983070560623, 0.2758198307067538),\n",
       " (0.2803176231755379, 0.2803176231767047),\n",
       " (0.22072521900785422, 0.22072521900883896),\n",
       " (0.24484636219616823, 0.24484636219719227),\n",
       " (0.22673549716689598, 0.22673549716789584),\n",
       " (0.18947063202880235, 0.18947063202971842),\n",
       " (0.24336890304513403, 0.24336890304616962),\n",
       " (0.24470991044362464, 0.2447099104446492),\n",
       " (0.2538825447369189, 0.2538825447379757),\n",
       " (0.2603806443124708, 0.2603806443135457),\n",
       " (0.22405599586489194, 0.22405599586585906),\n",
       " (0.25308834455542706, 0.25308834455646373),\n",
       " (0.20601744751719955, 0.2060174475181483),\n",
       " (0.1907617195225892, 0.19076171952350343),\n",
       " (0.2473755539574078, 0.24737555395843674),\n",
       " (0.1957316531029324, 0.19573165310385082),\n",
       " (0.2601336708275356, 0.2601336708285867),\n",
       " (0.234808812508737, 0.23480881250973173),\n",
       " (0.19250791700613185, 0.19250791700704417),\n",
       " (0.204443236374237, 0.2044432363751689),\n",
       " (0.26558846912795925, 0.26558846912904976),\n",
       " (0.2306857985638676, 0.23068579856485655),\n",
       " (0.15280330354261099, 0.15280330354346636),\n",
       " (0.23591781122572394, 0.23591781122673022),\n",
       " (0.2110799903871893, 0.21107999038812789),\n",
       " (0.22448933450156905, 0.2244893345025499),\n",
       " (0.25249879374382905, 0.25249879374488443),\n",
       " (0.2293909013435807, 0.22939090134457427),\n",
       " (0.2518359750654623, 0.25183597506652317),\n",
       " (0.23432334697345186, 0.23432334697445625),\n",
       " (0.22392034081668402, 0.22392034081767176),\n",
       " (0.1927608069527862, 0.19276080695369113),\n",
       " (0.20731123692759684, 0.20731123692855216),\n",
       " (0.2772852235320599, 0.27728522353318164),\n",
       " (0.2452882151786286, 0.24528821517967234),\n",
       " (0.23315834543498035, 0.23315834543598574),\n",
       " (0.26946510030701565, 0.26946510030812215),\n",
       " (0.22074892055170184, 0.22074892055267256),\n",
       " (0.2517860346281943, 0.25178603462924704),\n",
       " (0.19921545847219013, 0.1992154584731097)]"
      ]
     },
     "execution_count": 122,
     "metadata": {},
     "output_type": "execute_result"
    }
   ],
   "source": [
    "res1 = []\n",
    "train_data1 = train_data.detach().numpy()\n",
    "np.seterr(all='raise')\n",
    "for i in train_data1:\n",
    "    try :\n",
    "        res1.append(price_heston_fourier(1,0.9,i[1],1,0.01,0.8,i[2],i[0],i[3],i[4],100))\n",
    "    except:\n",
    "        res1.append(np.nan)\n",
    "res1"
   ]
  },
  {
   "cell_type": "code",
   "execution_count": 121,
   "metadata": {},
   "outputs": [
    {
     "data": {
      "text/plain": [
       "0.1662261463203171"
      ]
     },
     "execution_count": 121,
     "metadata": {},
     "output_type": "execute_result"
    }
   ],
   "source": [
    "i = train_data1[35]\n",
    "price_heston_fourier(1,0.9,i[1],1,0.01,0.8,i[2],i[0],0.1,i[4],1)"
   ]
  },
  {
   "cell_type": "code",
   "execution_count": 115,
   "metadata": {},
   "outputs": [
    {
     "data": {
      "text/plain": [
       "array([-0.38529328,  1.1330202 ,  0.3592636 ,  0.02043602,  0.27256924,\n",
       "        1.2178296 ,  1.        ,  0.8       ,  0.01      ], dtype=float32)"
      ]
     },
     "execution_count": 115,
     "metadata": {},
     "output_type": "execute_result"
    }
   ],
   "source": [
    "train_data1[35]"
   ]
  },
  {
   "cell_type": "code",
   "execution_count": 74,
   "metadata": {},
   "outputs": [
    {
     "ename": "RuntimeError",
     "evalue": "Can't call numpy() on Variable that requires grad. Use var.detach().numpy() instead.",
     "output_type": "error",
     "traceback": [
      "\u001b[0;31m---------------------------------------------------------------------------\u001b[0m",
      "\u001b[0;31mRuntimeError\u001b[0m                              Traceback (most recent call last)",
      "\u001b[0;32m<ipython-input-74-101abc70b9d3>\u001b[0m in \u001b[0;36m<module>\u001b[0;34m\u001b[0m\n\u001b[1;32m      9\u001b[0m         \u001b[0;31m#res1 = np.delete(res1,i,0)\u001b[0m\u001b[0;34m\u001b[0m\u001b[0;34m\u001b[0m\u001b[0;34m\u001b[0m\u001b[0m\n\u001b[1;32m     10\u001b[0m \u001b[0;34m\u001b[0m\u001b[0m\n\u001b[0;32m---> 11\u001b[0;31m \u001b[0mres\u001b[0m \u001b[0;34m=\u001b[0m \u001b[0mnp\u001b[0m\u001b[0;34m.\u001b[0m\u001b[0mdelete\u001b[0m\u001b[0;34m(\u001b[0m\u001b[0mres\u001b[0m\u001b[0;34m,\u001b[0m\u001b[0mtopop\u001b[0m\u001b[0;34m,\u001b[0m\u001b[0;36m0\u001b[0m\u001b[0;34m)\u001b[0m\u001b[0;34m\u001b[0m\u001b[0;34m\u001b[0m\u001b[0m\n\u001b[0m",
      "\u001b[0;32m<__array_function__ internals>\u001b[0m in \u001b[0;36mdelete\u001b[0;34m(*args, **kwargs)\u001b[0m\n",
      "\u001b[0;32m~/anaconda3/lib/python3.7/site-packages/numpy/lib/function_base.py\u001b[0m in \u001b[0;36mdelete\u001b[0;34m(arr, obj, axis)\u001b[0m\n\u001b[1;32m   4283\u001b[0m             \u001b[0;32mpass\u001b[0m\u001b[0;34m\u001b[0m\u001b[0;34m\u001b[0m\u001b[0m\n\u001b[1;32m   4284\u001b[0m \u001b[0;34m\u001b[0m\u001b[0m\n\u001b[0;32m-> 4285\u001b[0;31m     \u001b[0marr\u001b[0m \u001b[0;34m=\u001b[0m \u001b[0masarray\u001b[0m\u001b[0;34m(\u001b[0m\u001b[0marr\u001b[0m\u001b[0;34m)\u001b[0m\u001b[0;34m\u001b[0m\u001b[0;34m\u001b[0m\u001b[0m\n\u001b[0m\u001b[1;32m   4286\u001b[0m     \u001b[0mndim\u001b[0m \u001b[0;34m=\u001b[0m \u001b[0marr\u001b[0m\u001b[0;34m.\u001b[0m\u001b[0mndim\u001b[0m\u001b[0;34m\u001b[0m\u001b[0;34m\u001b[0m\u001b[0m\n\u001b[1;32m   4287\u001b[0m     \u001b[0marrorder\u001b[0m \u001b[0;34m=\u001b[0m \u001b[0;34m'F'\u001b[0m \u001b[0;32mif\u001b[0m \u001b[0marr\u001b[0m\u001b[0;34m.\u001b[0m\u001b[0mflags\u001b[0m\u001b[0;34m.\u001b[0m\u001b[0mfnc\u001b[0m \u001b[0;32melse\u001b[0m \u001b[0;34m'C'\u001b[0m\u001b[0;34m\u001b[0m\u001b[0;34m\u001b[0m\u001b[0m\n",
      "\u001b[0;32m~/anaconda3/lib/python3.7/site-packages/numpy/core/_asarray.py\u001b[0m in \u001b[0;36masarray\u001b[0;34m(a, dtype, order)\u001b[0m\n\u001b[1;32m     83\u001b[0m \u001b[0;34m\u001b[0m\u001b[0m\n\u001b[1;32m     84\u001b[0m     \"\"\"\n\u001b[0;32m---> 85\u001b[0;31m     \u001b[0;32mreturn\u001b[0m \u001b[0marray\u001b[0m\u001b[0;34m(\u001b[0m\u001b[0ma\u001b[0m\u001b[0;34m,\u001b[0m \u001b[0mdtype\u001b[0m\u001b[0;34m,\u001b[0m \u001b[0mcopy\u001b[0m\u001b[0;34m=\u001b[0m\u001b[0;32mFalse\u001b[0m\u001b[0;34m,\u001b[0m \u001b[0morder\u001b[0m\u001b[0;34m=\u001b[0m\u001b[0morder\u001b[0m\u001b[0;34m)\u001b[0m\u001b[0;34m\u001b[0m\u001b[0;34m\u001b[0m\u001b[0m\n\u001b[0m\u001b[1;32m     86\u001b[0m \u001b[0;34m\u001b[0m\u001b[0m\n\u001b[1;32m     87\u001b[0m \u001b[0;34m\u001b[0m\u001b[0m\n",
      "\u001b[0;32m~/anaconda3/lib/python3.7/site-packages/torch/tensor.py\u001b[0m in \u001b[0;36m__array__\u001b[0;34m(self, dtype)\u001b[0m\n\u001b[1;32m    484\u001b[0m     \u001b[0;32mdef\u001b[0m \u001b[0m__array__\u001b[0m\u001b[0;34m(\u001b[0m\u001b[0mself\u001b[0m\u001b[0;34m,\u001b[0m \u001b[0mdtype\u001b[0m\u001b[0;34m=\u001b[0m\u001b[0;32mNone\u001b[0m\u001b[0;34m)\u001b[0m\u001b[0;34m:\u001b[0m\u001b[0;34m\u001b[0m\u001b[0;34m\u001b[0m\u001b[0m\n\u001b[1;32m    485\u001b[0m         \u001b[0;32mif\u001b[0m \u001b[0mdtype\u001b[0m \u001b[0;32mis\u001b[0m \u001b[0;32mNone\u001b[0m\u001b[0;34m:\u001b[0m\u001b[0;34m\u001b[0m\u001b[0;34m\u001b[0m\u001b[0m\n\u001b[0;32m--> 486\u001b[0;31m             \u001b[0;32mreturn\u001b[0m \u001b[0mself\u001b[0m\u001b[0;34m.\u001b[0m\u001b[0mnumpy\u001b[0m\u001b[0;34m(\u001b[0m\u001b[0;34m)\u001b[0m\u001b[0;34m\u001b[0m\u001b[0;34m\u001b[0m\u001b[0m\n\u001b[0m\u001b[1;32m    487\u001b[0m         \u001b[0;32melse\u001b[0m\u001b[0;34m:\u001b[0m\u001b[0;34m\u001b[0m\u001b[0;34m\u001b[0m\u001b[0m\n\u001b[1;32m    488\u001b[0m             \u001b[0;32mreturn\u001b[0m \u001b[0mself\u001b[0m\u001b[0;34m.\u001b[0m\u001b[0mnumpy\u001b[0m\u001b[0;34m(\u001b[0m\u001b[0;34m)\u001b[0m\u001b[0;34m.\u001b[0m\u001b[0mastype\u001b[0m\u001b[0;34m(\u001b[0m\u001b[0mdtype\u001b[0m\u001b[0;34m,\u001b[0m \u001b[0mcopy\u001b[0m\u001b[0;34m=\u001b[0m\u001b[0;32mFalse\u001b[0m\u001b[0;34m)\u001b[0m\u001b[0;34m\u001b[0m\u001b[0;34m\u001b[0m\u001b[0m\n",
      "\u001b[0;31mRuntimeError\u001b[0m: Can't call numpy() on Variable that requires grad. Use var.detach().numpy() instead."
     ]
    }
   ],
   "source": [
    "torch.set_printoptions(20)\n",
    "res = res.unsqueeze(1)\n",
    "jac = Jacobian()\n",
    "topop = []\n",
    "jac(train_data,res)\n",
    "for i in range(len(res)):\n",
    "    if res[i] is np.nan:\n",
    "        topop.append(i)\n",
    "        #res1 = np.delete(res1,i,0)\n",
    "        \n",
    "res = np.delete(res,topop,0)"
   ]
  },
  {
   "cell_type": "code",
   "execution_count": 70,
   "metadata": {},
   "outputs": [
    {
     "data": {
      "text/plain": [
       "45"
      ]
     },
     "execution_count": 70,
     "metadata": {},
     "output_type": "execute_result"
    }
   ],
   "source": [
    "len(res1)"
   ]
  },
  {
   "cell_type": "code",
   "execution_count": 105,
   "metadata": {},
   "outputs": [],
   "source": [
    "y = res[res[:, 0] > 0]\n"
   ]
  },
  {
   "cell_type": "code",
   "execution_count": 103,
   "metadata": {},
   "outputs": [],
   "source": [
    "x = train_data[res[:, 0] > 0]\n"
   ]
  },
  {
   "cell_type": "code",
   "execution_count": 78,
   "metadata": {},
   "outputs": [
    {
     "data": {
      "text/plain": [
       "42"
      ]
     },
     "execution_count": 78,
     "metadata": {},
     "output_type": "execute_result"
    }
   ],
   "source": [
    "len(y)"
   ]
  },
  {
   "cell_type": "code",
   "execution_count": 95,
   "metadata": {},
   "outputs": [],
   "source": [
    "topop = []\n",
    "boolean = res[:, 0] > 0\n",
    "for i in range(len(boolean)):\n",
    "    if not boolean[i] :\n",
    "        topop.append(i)\n",
    "\n",
    "res1 = np.delete(res1,topop,0)"
   ]
  },
  {
   "cell_type": "code",
   "execution_count": null,
   "metadata": {},
   "outputs": [],
   "source": []
  },
  {
   "cell_type": "code",
   "execution_count": 101,
   "metadata": {},
   "outputs": [
    {
     "ename": "TypeError",
     "evalue": "can't assign a NoneType to a torch.FloatTensor",
     "output_type": "error",
     "traceback": [
      "\u001b[0;31m---------------------------------------------------------------------------\u001b[0m",
      "\u001b[0;31mTypeError\u001b[0m                                 Traceback (most recent call last)",
      "\u001b[0;32m<ipython-input-101-933b78ca735d>\u001b[0m in \u001b[0;36m<module>\u001b[0;34m\u001b[0m\n\u001b[1;32m      1\u001b[0m \u001b[0mjac\u001b[0m \u001b[0;34m=\u001b[0m \u001b[0mJacobian\u001b[0m\u001b[0;34m(\u001b[0m\u001b[0;34m)\u001b[0m\u001b[0;34m\u001b[0m\u001b[0;34m\u001b[0m\u001b[0m\n\u001b[0;32m----> 2\u001b[0;31m \u001b[0mjac\u001b[0m\u001b[0;34m(\u001b[0m\u001b[0mx\u001b[0m\u001b[0;34m,\u001b[0m\u001b[0my\u001b[0m\u001b[0;34m)\u001b[0m\u001b[0;34m\u001b[0m\u001b[0;34m\u001b[0m\u001b[0m\n\u001b[0m",
      "\u001b[0;32m~/anaconda3/lib/python3.7/site-packages/torch/nn/modules/module.py\u001b[0m in \u001b[0;36m__call__\u001b[0;34m(self, *input, **kwargs)\u001b[0m\n\u001b[1;32m    530\u001b[0m             \u001b[0mresult\u001b[0m \u001b[0;34m=\u001b[0m \u001b[0mself\u001b[0m\u001b[0;34m.\u001b[0m\u001b[0m_slow_forward\u001b[0m\u001b[0;34m(\u001b[0m\u001b[0;34m*\u001b[0m\u001b[0minput\u001b[0m\u001b[0;34m,\u001b[0m \u001b[0;34m**\u001b[0m\u001b[0mkwargs\u001b[0m\u001b[0;34m)\u001b[0m\u001b[0;34m\u001b[0m\u001b[0;34m\u001b[0m\u001b[0m\n\u001b[1;32m    531\u001b[0m         \u001b[0;32melse\u001b[0m\u001b[0;34m:\u001b[0m\u001b[0;34m\u001b[0m\u001b[0;34m\u001b[0m\u001b[0m\n\u001b[0;32m--> 532\u001b[0;31m             \u001b[0mresult\u001b[0m \u001b[0;34m=\u001b[0m \u001b[0mself\u001b[0m\u001b[0;34m.\u001b[0m\u001b[0mforward\u001b[0m\u001b[0;34m(\u001b[0m\u001b[0;34m*\u001b[0m\u001b[0minput\u001b[0m\u001b[0;34m,\u001b[0m \u001b[0;34m**\u001b[0m\u001b[0mkwargs\u001b[0m\u001b[0;34m)\u001b[0m\u001b[0;34m\u001b[0m\u001b[0;34m\u001b[0m\u001b[0m\n\u001b[0m\u001b[1;32m    533\u001b[0m         \u001b[0;32mfor\u001b[0m \u001b[0mhook\u001b[0m \u001b[0;32min\u001b[0m \u001b[0mself\u001b[0m\u001b[0;34m.\u001b[0m\u001b[0m_forward_hooks\u001b[0m\u001b[0;34m.\u001b[0m\u001b[0mvalues\u001b[0m\u001b[0;34m(\u001b[0m\u001b[0;34m)\u001b[0m\u001b[0;34m:\u001b[0m\u001b[0;34m\u001b[0m\u001b[0;34m\u001b[0m\u001b[0m\n\u001b[1;32m    534\u001b[0m             \u001b[0mhook_result\u001b[0m \u001b[0;34m=\u001b[0m \u001b[0mhook\u001b[0m\u001b[0;34m(\u001b[0m\u001b[0mself\u001b[0m\u001b[0;34m,\u001b[0m \u001b[0minput\u001b[0m\u001b[0;34m,\u001b[0m \u001b[0mresult\u001b[0m\u001b[0;34m)\u001b[0m\u001b[0;34m\u001b[0m\u001b[0;34m\u001b[0m\u001b[0m\n",
      "\u001b[0;32m~/Desktop/PRR/deep_calibration/code/miscellaneous/jacobian.py\u001b[0m in \u001b[0;36mforward\u001b[0;34m(self, inputs, outputs)\u001b[0m\n\u001b[1;32m     26\u001b[0m             \u001b[0moutputs\u001b[0m\u001b[0;34m.\u001b[0m\u001b[0mbackward\u001b[0m\u001b[0;34m(\u001b[0m\u001b[0mgrad_output\u001b[0m\u001b[0;34m,\u001b[0m\u001b[0mretain_graph\u001b[0m\u001b[0;34m=\u001b[0m\u001b[0;32mTrue\u001b[0m\u001b[0;34m,\u001b[0m\u001b[0mcreate_graph\u001b[0m\u001b[0;34m=\u001b[0m\u001b[0;32mTrue\u001b[0m\u001b[0;34m)\u001b[0m\u001b[0;34m\u001b[0m\u001b[0;34m\u001b[0m\u001b[0m\n\u001b[1;32m     27\u001b[0m \u001b[0;34m\u001b[0m\u001b[0m\n\u001b[0;32m---> 28\u001b[0;31m             \u001b[0mjacobian\u001b[0m\u001b[0;34m[\u001b[0m\u001b[0mi\u001b[0m\u001b[0;34m]\u001b[0m \u001b[0;34m=\u001b[0m \u001b[0minputs\u001b[0m\u001b[0;34m.\u001b[0m\u001b[0mgrad\u001b[0m\u001b[0;34m\u001b[0m\u001b[0;34m\u001b[0m\u001b[0m\n\u001b[0m\u001b[1;32m     29\u001b[0m \u001b[0;34m\u001b[0m\u001b[0m\n\u001b[1;32m     30\u001b[0m         \u001b[0;32mreturn\u001b[0m \u001b[0mjacobian\u001b[0m\u001b[0;34m\u001b[0m\u001b[0;34m\u001b[0m\u001b[0m\n",
      "\u001b[0;31mTypeError\u001b[0m: can't assign a NoneType to a torch.FloatTensor"
     ]
    }
   ],
   "source": [
    "jac = Jacobian()\n",
    "jac(x,y)"
   ]
  },
  {
   "cell_type": "code",
   "execution_count": null,
   "metadata": {},
   "outputs": [],
   "source": []
  }
 ],
 "metadata": {
  "kernelspec": {
   "display_name": "Python 3",
   "language": "python",
   "name": "python3"
  },
  "language_info": {
   "codemirror_mode": {
    "name": "ipython",
    "version": 3
   },
   "file_extension": ".py",
   "mimetype": "text/x-python",
   "name": "python",
   "nbconvert_exporter": "python",
   "pygments_lexer": "ipython3",
   "version": "3.7.4"
  }
 },
 "nbformat": 4,
 "nbformat_minor": 4
}
