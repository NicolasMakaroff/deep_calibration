{
 "cells": [
  {
   "cell_type": "code",
   "execution_count": 1,
   "metadata": {},
   "outputs": [
    {
     "data": {
      "text/html": [
       "        <script type=\"text/javascript\">\n",
       "        window.PlotlyConfig = {MathJaxConfig: 'local'};\n",
       "        if (window.MathJax) {MathJax.Hub.Config({SVG: {font: \"STIX-Web\"}});}\n",
       "        if (typeof require !== 'undefined') {\n",
       "        require.undef(\"plotly\");\n",
       "        requirejs.config({\n",
       "            paths: {\n",
       "                'plotly': ['https://cdn.plot.ly/plotly-latest.min']\n",
       "            }\n",
       "        });\n",
       "        require(['plotly'], function(Plotly) {\n",
       "            window._Plotly = Plotly;\n",
       "        });\n",
       "        }\n",
       "        </script>\n",
       "        "
      ]
     },
     "metadata": {},
     "output_type": "display_data"
    }
   ],
   "source": [
    "# Standard library imports\n",
    "import os\n",
    "import sys\n",
    "import random\n",
    "\n",
    "# Important directories\n",
    "code_dir = os.path.dirname(os.getcwd())\n",
    "deep_cal_dir = os.path.dirname(os.path.dirname(os.getcwd()))\n",
    "# Allows to import my own module\n",
    "sys.path.insert(0, code_dir)\n",
    "\n",
    "from miscellaneous.helpers import StyblinskiTang, StyblinskiTangNN, PlotStyblinskiTang, plot_results\n",
    "from miscellaneous.dataloader import SobolevDataset\n",
    "from miscellaneous.models import SobolevRegressor\n",
    "from miscellaneous.train_sobolev import train_sobolev\n",
    "\n",
    "from ann.helpers import open_data\n",
    "\n",
    "import numpy as np\n",
    "import pandas as pd\n",
    "import torch\n",
    "from torch.utils.data import DataLoader\n",
    "from torch.autograd import Variable\n",
    "\n",
    "\n",
    "random.seed(0)"
   ]
  },
  {
   "cell_type": "code",
   "execution_count": 2,
   "metadata": {},
   "outputs": [],
   "source": [
    "stock_min = 80.\n",
    "stock_max = 150.\n",
    "rate_min = 0\n",
    "rate_max = 0\n",
    "vol_min = 10.\n",
    "vol_max = 100.\n",
    "time_min = 10.\n",
    "time_max = 300.\n",
    "dividend_min = 0.\n",
    "dividend_max = 0.\n",
    "min_ = [stock_min,rate_min,vol_min,time_min,dividend_min]\n",
    "max_ = [stock_max,rate_max,vol_max,time_max,dividend_max]\n",
    "sample_heston = np.random.uniform(low=min_, high=max_, size=(2000,5))/100"
   ]
  },
  {
   "cell_type": "code",
   "execution_count": 3,
   "metadata": {},
   "outputs": [
    {
     "name": "stdout",
     "output_type": "stream",
     "text": [
      "         stock  strike  rate       vol      time  dividend\n",
      "1995  1.056313     1.0   0.0  0.139453  2.408860       0.0\n",
      "1996  1.063563     1.0   0.0  0.197711  1.137298       0.0\n",
      "1997  1.454342     1.0   0.0  0.469785  2.081291       0.0\n",
      "1998  0.999958     1.0   0.0  0.537906  0.180654       0.0\n",
      "1999  1.163207     1.0   0.0  0.958191  2.896105       0.0\n"
     ]
    }
   ],
   "source": [
    "value_ = {'stock':sample_heston[:,0],'strike':1.,'rate':sample_heston[:,1],'vol':sample_heston[:,2],  'time':sample_heston[:,3], 'dividend':sample_heston[:,4]}\n",
    "database = pd.DataFrame(value_)\n",
    "print(database.tail())\n",
    "database.to_csv('data/tmp_bs.csv',index=False)"
   ]
  },
  {
   "cell_type": "code",
   "execution_count": 4,
   "metadata": {},
   "outputs": [],
   "source": [
    "data = open_data('data/tmp_bs.csv')\n",
    "data = data.to_numpy()\n",
    "train_data = data[:1000]\n",
    "test_data = data[1001:]"
   ]
  },
  {
   "cell_type": "code",
   "execution_count": 5,
   "metadata": {},
   "outputs": [],
   "source": [
    "train_dataset =SobolevDataset(train_data)\n",
    "test_dataset =SobolevDataset(test_data)"
   ]
  },
  {
   "cell_type": "code",
   "execution_count": 6,
   "metadata": {},
   "outputs": [],
   "source": [
    "train_loader = DataLoader(dataset=train_dataset,\n",
    "                          batch_size=20,\n",
    "                          shuffle=True,\n",
    "                          num_workers=0)\n",
    "test_loader = DataLoader(dataset=test_dataset,\n",
    "                          batch_size=100,\n",
    "                          shuffle=True,\n",
    "                          num_workers=0)"
   ]
  },
  {
   "cell_type": "code",
   "execution_count": null,
   "metadata": {},
   "outputs": [],
   "source": []
  },
  {
   "cell_type": "code",
   "execution_count": 7,
   "metadata": {},
   "outputs": [],
   "source": [
    "# black-scholes inputs\n",
    "stock = torch.tensor(100.0, requires_grad=True)\n",
    "strike = torch.tensor(100.0, requires_grad=True)\n",
    "rate = torch.tensor(0.035, requires_grad=True)\n",
    "vol = torch.tensor(0.16, requires_grad=True)\n",
    "time = torch.tensor(1.0, requires_grad=True)\n",
    "dividend = torch.tensor(0.01, requires_grad=True)\n",
    "\n",
    "# utility functions\n",
    "cdf = torch.distributions.Normal(0,1).cdf\n",
    "pdf = lambda x: torch.distributions.Normal(0,1).log_prob(x).exp()\n"
   ]
  },
  {
   "cell_type": "code",
   "execution_count": 8,
   "metadata": {},
   "outputs": [],
   "source": [
    "def bs(stock, strike, rate, vol, time, dividend):\n",
    "    a = torch.log(stock/strike)\n",
    "    b = rate - dividend\n",
    "    c = vol*vol/2\n",
    "    d = (vol*time**0.5)\n",
    "    d1 = (a + (b + c)*time) / d\n",
    "    d2 = (a + (b - c)*time) / d\n",
    "    ov = strike*torch.exp(-rate*time)*cdf(-d2) - stock*torch.exp(-dividend*time)*cdf(-d1)\n",
    "    return ov\n"
   ]
  },
  {
   "cell_type": "code",
   "execution_count": 9,
   "metadata": {},
   "outputs": [],
   "source": [
    "ov = bs(stock, strike, rate, vol, time, dividend)\n",
    "\n",
    "ov.backward()\n",
    "delta = stock.grad\n",
    "rho = rate.grad\n",
    "vega = vol.grad\n",
    "theta = time.grad\n",
    "epsilon = dividend.grad\n",
    "strike_greek = strike.grad\n"
   ]
  },
  {
   "cell_type": "code",
   "execution_count": 10,
   "metadata": {},
   "outputs": [
    {
     "name": "stdout",
     "output_type": "stream",
     "text": [
      "tensor(5.0885, grad_fn=<SubBackward0>)\n",
      "tensor(-0.4026)\n",
      "tensor(-45.3458)\n",
      "tensor(38.4103)\n",
      "tensor(1.8883)\n",
      "tensor(40.2573)\n",
      "tensor(0.4535)\n"
     ]
    }
   ],
   "source": [
    "print(ov)\n",
    "print(delta)\n",
    "print(rho)\n",
    "print(vega)\n",
    "print(theta)\n",
    "print(epsilon)\n",
    "print(strike_greek)"
   ]
  },
  {
   "cell_type": "code",
   "execution_count": 11,
   "metadata": {},
   "outputs": [],
   "source": [
    "train_data = [[stock, strike, rate, vol, time, dividend],\n",
    "              [stock, strike, rate, vol, time, dividend]]"
   ]
  },
  {
   "cell_type": "code",
   "execution_count": 12,
   "metadata": {},
   "outputs": [],
   "source": [
    "train_data = torch.Tensor(train_data)\n",
    "train_data = Variable(train_data, requires_grad = True)"
   ]
  },
  {
   "cell_type": "code",
   "execution_count": 13,
   "metadata": {},
   "outputs": [],
   "source": [
    "ov = bs(train_data[:,0],train_data[:,1],train_data[:,2],train_data[:,3],train_data[:,4],train_data[:,5])"
   ]
  },
  {
   "cell_type": "code",
   "execution_count": 14,
   "metadata": {},
   "outputs": [
    {
     "data": {
      "text/plain": [
       "tensor([[[ -0.4026,   0.4535, -45.3458,  38.4103,   1.8883,  40.2573],\n",
       "         [ -0.4026,   0.4535, -45.3458,  38.4103,   1.8883,  40.2573]]],\n",
       "       grad_fn=<CopySlices>)"
      ]
     },
     "execution_count": 14,
     "metadata": {},
     "output_type": "execute_result"
    }
   ],
   "source": [
    "from jacobian import Jacobian\n",
    "ov = ov.unsqueeze(1)\n",
    "jac = Jacobian()\n",
    "jac(train_data,ov)"
   ]
  },
  {
   "cell_type": "code",
   "execution_count": 15,
   "metadata": {},
   "outputs": [],
   "source": [
    "import torch\n",
    "from torch import nn, optim\n",
    "import torch.nn.functional as F\n",
    "\n",
    "_device = torch.device(\"cuda:0\" if torch.cuda.is_available() else \"cpu\")\n",
    "\n",
    "class SobolevRegressor(nn.Module):\n",
    "    def __init__(self):\n",
    "        super().__init__()\n",
    "        self.fc1 = nn.Linear(6, 256)\n",
    "\n",
    "        self.fc2 = nn.Linear(256, 256)\n",
    "\n",
    "        self.fc3 = nn.Linear(256, 256)\n",
    "\n",
    "        self.fc4 = nn.Linear(256,1)\n",
    "    \n",
    "        self.drop = nn.Dropout(p=0.2)\n",
    "\n",
    "    def forward(self, x):\n",
    "        x = F.elu(self.fc1(x))\n",
    "        x = F.elu(self.fc2(x))\n",
    "        x = F.elu(self.fc3(x))\n",
    "\n",
    "        x = self.fc4(x)\n",
    "        \n",
    "        return x\n",
    "    \n",
    "model = SobolevRegressor()"
   ]
  },
  {
   "cell_type": "code",
   "execution_count": 16,
   "metadata": {},
   "outputs": [],
   "source": [
    "import os\n",
    "import sys\n",
    "\n",
    "code_dir = os.path.dirname(os.getcwd())\n",
    "sys.path.insert(0, code_dir)\n",
    "\n",
    "from tqdm import tqdm\n",
    "from tqdm.notebook import tqdm as tqdm_notebook\n",
    "import pandas as pd\n",
    "\n",
    "from torch import nn, optim\n",
    "import torch\n",
    "from torch.autograd import Variable, grad\n",
    "from torch.utils.tensorboard import SummaryWriter\n",
    "\n",
    "import numpy as np\n",
    "\n",
    "from ann.model import init_weights\n",
    "from miscellaneous.jacobian import Jacobian\n",
    "from miscellaneous.helpers import StyblinskiTangNN\n",
    "\n",
    "_device = torch.device(\"cuda:0\" if torch.cuda.is_available() else \"cpu\")\n",
    "writer = SummaryWriter(code_dir + '/ann/runs/lifted_heston_experiment')\n",
    "\n",
    "f1 = bs\n",
    "\n",
    "\n",
    "def train_sobolev(model,\n",
    "                  train_loader,\n",
    "                  test_loader,\n",
    "                  lambd,\n",
    "                  nb_epochs,\n",
    "                  seed, \n",
    "                  save_model_dir,\n",
    "                  log_df= 'log_df.csv'):\n",
    "    \"\"\"\n",
    "    Arguments:\n",
    "\n",
    "        train_loader:   Dataloader. \n",
    "            train_loader.features: array-like, shape=[# samples, # features].\n",
    "                Features of the data set.\n",
    "            train_loader.labels: array-like, shape=[# samples, # labels].\n",
    "                Labels of the data set.\n",
    "        test_loader:   Dataloader.\n",
    "            test_loader.features: array-like, shape=[# samples, # features].\n",
    "                Features of the data set.\n",
    "            test_loader.labels: array-like, shape=[# samples, # labels].\n",
    "                Labels of the data set.\n",
    "        lambd: double.\n",
    "            Proportion for the sobolev mean squared error.\n",
    "        nb_epochs: integer.\n",
    "            Number of epochs to train the network.\n",
    "        seed: integer.\n",
    "            Random seed for PRNG, allowing reproducibility of results.\n",
    "        project_dir: string.\n",
    "            Project directory to write to.\n",
    "        log_df: pandas dataframe, shape=[, nb_layers + 8], default = None\n",
    "            Pandas df that serves as a log file. If none, df is created.\n",
    "    Returns:\n",
    "        log_df: pandas dataframe.\n",
    "            Pandas df log file with training and validation metrics across eps.\n",
    "        best_error: float\n",
    "            Best error on test set among epochs.\n",
    "    \"\"\"\n",
    "    criterion = nn.MSELoss()\n",
    "    optimizer = optim.Adam(model.parameters(),lr=0.0005)\n",
    "\n",
    "    train_loss_min = np.Inf\n",
    "    steps = 0\n",
    "    model.apply(init_weights)\n",
    "    model.to(_device)\n",
    "    jacobian = Jacobian()\n",
    "    train_losses,train_L1losses,train_L2losses, test_losses,test_L1losses, learningRate = [], [], [], [],[],[]\n",
    "\n",
    "    #scheduler = optim.lr_scheduler.StepLR(optimizer, step_size=500, gamma=0.5)\n",
    "    \n",
    "    epochs_iter = tqdm_notebook(range(nb_epochs), desc=\"Epoch\")\n",
    "    for e in epochs_iter:\n",
    "        running_loss = 0\n",
    "        L1Loss = 0\n",
    "        L2Loss = 0\n",
    "        for features in train_loader:\n",
    "            \n",
    "            features = features.type(torch.FloatTensor)\n",
    "            features = features.to(_device)\n",
    "\n",
    "            features = Variable(features,requires_grad = True)\n",
    "            #print(features)\n",
    "            labels = f1(features[:,0],features[:,1],features[:,2],features[:,3],features[:,4],features[:,5])\n",
    "            labels = labels.unsqueeze(1)\n",
    "\n",
    "\n",
    "            MSE = model(features)\n",
    "            #print(labels)\n",
    "            \n",
    "            #MSE.requires_grad = True\n",
    "\n",
    "            #labels = Variable(labels,requires_grad=True)\n",
    "\n",
    "            J_teacher = jacobian(features, labels)\n",
    "            J_student = jacobian(features, MSE)\n",
    "            #print(J_teacher)\n",
    "            loss = criterion(MSE, labels) \n",
    "\n",
    "            loss_sobolev = criterion(J_teacher.flatten(), J_student.flatten())\n",
    "\n",
    "            loss_total =  loss + lambd * loss_sobolev\n",
    "\n",
    "            optimizer.zero_grad() # dé-commenter si on utilise pas Adatune\n",
    "            loss_total.backward()\n",
    "            #torch.nn.utils.clip_grad_norm_(model.parameters(), 2000)\n",
    "\n",
    "            optimizer.step()\n",
    " \n",
    "            L1Loss += loss.item()\n",
    "            L2Loss += loss_sobolev.item()\n",
    "            running_loss += loss_total.item()\n",
    "\n",
    "        else:\n",
    "            test_L1loss = 0\n",
    "            test_L2loss = 0\n",
    "            test_loss = 0\n",
    "            # Turn off gradients for validation, saves memory and computations\n",
    "            with torch.no_grad():\n",
    "                model.eval()\n",
    "                for features1 in test_loader:\n",
    "                    \n",
    "                    \n",
    "                    features1 = features1.type(torch.FloatTensor)\n",
    "\n",
    "                    #features1= features1.to(_device)  #,dlabels1.to(_device)\n",
    "                    labels1 = f1(features1[:,0],features1[:,1],features1[:,2],features1[:,3],features1[:,4],features1[:,5])\n",
    "                    MSE = model(features1)\n",
    "                    labels1 = labels1.unsqueeze(1)\n",
    "                    test_L1loss += criterion(MSE, labels1)\n",
    "                    \n",
    "                    test_loss += test_L1loss \n",
    "\n",
    "                    \n",
    "                    \n",
    "                    \n",
    "            model.train()        \n",
    "            train_losses.append(running_loss/len(train_loader))\n",
    "            train_L1losses.append(L1Loss/len(train_loader))\n",
    "            train_L2losses.append(L2Loss/len(train_loader))\n",
    "\n",
    "            test_loss = test_loss/len(test_loader)\n",
    "            test_losses.append(test_loss)\n",
    "            test_L1losses.append(test_L1loss/len(test_loader))\n",
    "\n",
    "\n",
    "            learningRate.append(optimizer.param_groups[0]['lr'])\n",
    "            #scheduler.step(test_loss)\n",
    "\n",
    "            \"\"\"print(\n",
    "                  \"Training Loss: {:.7f}.. \".format(L1Loss/len(train_loader)),\n",
    "                  \"Training Sobolev Loss: {:.7f}..\".format(L2Loss/len(train_loader)),\n",
    "                  \"Training Full Loss: {:.7f}..\".format(running_loss/len(train_loader)),\n",
    "                  \"Test Loss: {:.3f}.. \".format(np.sqrt(test_loss)))\"\"\"\n",
    "            # save model if validation loss has decreased\n",
    "            if running_loss <= train_loss_min:\n",
    "                #print('Validation loss decreased ({} --> {}).  Saving model ...'.format(train_loss_min,running_loss))\n",
    "                #torch.save(model.state_dict(),save_model_dir)\n",
    "                train_loss_min = running_loss\n",
    "            \n",
    "    #learning_data = pd.DataFrame(list(zip(train_losses,train_L1losses, train_L2losses, test_losses, test_L1losses, learningRate)),columns=['Train Losses', 'Train L1 Losses', 'Train L2 Losses','Test Losses','Test L1 Losses', 'Learning Rate'])\n",
    "    #learning_data.to_csv(log_df,index=False)\n",
    "    \n",
    "    return train_L1losses, train_L2losses, test_losses"
   ]
  },
  {
   "cell_type": "code",
   "execution_count": 17,
   "metadata": {},
   "outputs": [
    {
     "data": {
      "application/vnd.jupyter.widget-view+json": {
       "model_id": "015c24331a974d26aabaf0b423e409e6",
       "version_major": 2,
       "version_minor": 0
      },
      "text/plain": [
       "HBox(children=(FloatProgress(value=0.0, description='Epoch', max=1000.0, style=ProgressStyle(description_width…"
      ]
     },
     "metadata": {},
     "output_type": "display_data"
    },
    {
     "name": "stdout",
     "output_type": "stream",
     "text": [
      "\n"
     ]
    }
   ],
   "source": [
    "tr1, tr2, tes = train_sobolev(model,train_loader,test_loader,1,1000,0, 'results/heston_tmp.pt',log_df= 'log_df.csv')"
   ]
  },
  {
   "cell_type": "code",
   "execution_count": 38,
   "metadata": {},
   "outputs": [
    {
     "data": {
      "text/html": [
       "<div>\n",
       "<style scoped>\n",
       "    .dataframe tbody tr th:only-of-type {\n",
       "        vertical-align: middle;\n",
       "    }\n",
       "\n",
       "    .dataframe tbody tr th {\n",
       "        vertical-align: top;\n",
       "    }\n",
       "\n",
       "    .dataframe thead th {\n",
       "        text-align: right;\n",
       "    }\n",
       "</style>\n",
       "<table border=\"1\" class=\"dataframe\">\n",
       "  <thead>\n",
       "    <tr style=\"text-align: right;\">\n",
       "      <th></th>\n",
       "      <th>value</th>\n",
       "    </tr>\n",
       "  </thead>\n",
       "  <tbody>\n",
       "    <tr>\n",
       "      <th>975</th>\n",
       "      <td>0.000007</td>\n",
       "    </tr>\n",
       "    <tr>\n",
       "      <th>677</th>\n",
       "      <td>0.000007</td>\n",
       "    </tr>\n",
       "    <tr>\n",
       "      <th>864</th>\n",
       "      <td>0.000007</td>\n",
       "    </tr>\n",
       "    <tr>\n",
       "      <th>859</th>\n",
       "      <td>0.000008</td>\n",
       "    </tr>\n",
       "    <tr>\n",
       "      <th>682</th>\n",
       "      <td>0.000008</td>\n",
       "    </tr>\n",
       "    <tr>\n",
       "      <th>...</th>\n",
       "      <td>...</td>\n",
       "    </tr>\n",
       "    <tr>\n",
       "      <th>23</th>\n",
       "      <td>0.011269</td>\n",
       "    </tr>\n",
       "    <tr>\n",
       "      <th>0</th>\n",
       "      <td>0.014536</td>\n",
       "    </tr>\n",
       "    <tr>\n",
       "      <th>12</th>\n",
       "      <td>0.015195</td>\n",
       "    </tr>\n",
       "    <tr>\n",
       "      <th>88</th>\n",
       "      <td>0.023520</td>\n",
       "    </tr>\n",
       "    <tr>\n",
       "      <th>49</th>\n",
       "      <td>0.041809</td>\n",
       "    </tr>\n",
       "  </tbody>\n",
       "</table>\n",
       "<p>1000 rows × 1 columns</p>\n",
       "</div>"
      ],
      "text/plain": [
       "        value\n",
       "975  0.000007\n",
       "677  0.000007\n",
       "864  0.000007\n",
       "859  0.000008\n",
       "682  0.000008\n",
       "..        ...\n",
       "23   0.011269\n",
       "0    0.014536\n",
       "12   0.015195\n",
       "88   0.023520\n",
       "49   0.041809\n",
       "\n",
       "[1000 rows x 1 columns]"
      ]
     },
     "execution_count": 38,
     "metadata": {},
     "output_type": "execute_result"
    }
   ],
   "source": [
    "test_result = pd.DataFrame(tes,columns=['value'])\n",
    "test_result.sort_values(by='value')"
   ]
  },
  {
   "cell_type": "code",
   "execution_count": 19,
   "metadata": {},
   "outputs": [
    {
     "data": {
      "text/plain": [
       "<matplotlib.legend.Legend at 0x7fa9d95855d0>"
      ]
     },
     "execution_count": 19,
     "metadata": {},
     "output_type": "execute_result"
    },
    {
     "data": {
      "image/png": "[encoded data removed]",
      "text/plain": [
       "<Figure size 432x288 with 1 Axes>"
      ]
     },
     "metadata": {
      "needs_background": "light"
     },
     "output_type": "display_data"
    }
   ],
   "source": [
    "from matplotlib import pyplot as plt\n",
    "plt.plot(tr1,label='L1')\n",
    "plt.plot(tr2,label='L2')\n",
    "plt.plot(tes,label='test')\n",
    "#plt.yscale('log')\n",
    "plt.legend()\n"
   ]
  },
  {
   "cell_type": "code",
   "execution_count": 20,
   "metadata": {},
   "outputs": [],
   "source": [
    "val = []\n",
    "for i in [0.3,0.4,0.6,0.8,0.9,0.95,0.975,1.,1.025,1.05,1.1,1.2,1.3,1.5,1.75,2,2.5,3]:\n",
    "    pred = torch.tensor([i,1,0, 0.1, 0.5, 0])\n",
    "    orig = bs(torch.tensor(i),torch.tensor(1.),torch.tensor(0.), torch.tensor(0.1), torch.tensor(0.5), torch.tensor(0.))\n",
    "    if model(pred) < 0.:\n",
    "        val.append([0.,orig])\n",
    "    else:\n",
    "        val.append([model(pred),orig])"
   ]
  },
  {
   "cell_type": "code",
   "execution_count": 21,
   "metadata": {},
   "outputs": [
    {
     "data": {
      "text/plain": [
       "[[tensor([0.8762], grad_fn=<AddBackward0>), tensor(0.7000)],\n",
       " [tensor([0.7312], grad_fn=<AddBackward0>), tensor(0.6000)],\n",
       " [tensor([0.4476], grad_fn=<AddBackward0>), tensor(0.4000)],\n",
       " [tensor([0.2015], grad_fn=<AddBackward0>), tensor(0.2000)],\n",
       " [tensor([0.1009], grad_fn=<AddBackward0>), tensor(0.1020)],\n",
       " [tensor([0.0597], grad_fn=<AddBackward0>), tensor(0.0594)],\n",
       " [tensor([0.0430], grad_fn=<AddBackward0>), tensor(0.0421)],\n",
       " [tensor([0.0294], grad_fn=<AddBackward0>), tensor(0.0282)],\n",
       " [tensor([0.0188], grad_fn=<AddBackward0>), tensor(0.0178)],\n",
       " [tensor([0.0112], grad_fn=<AddBackward0>), tensor(0.0105)],\n",
       " [tensor([0.0030], grad_fn=<AddBackward0>), tensor(0.0030)],\n",
       " [tensor([0.0010], grad_fn=<AddBackward0>), tensor(0.0001)],\n",
       " [tensor([0.0022], grad_fn=<AddBackward0>), tensor(1.9848e-06)],\n",
       " [tensor([0.0068], grad_fn=<AddBackward0>), tensor(0.)],\n",
       " [tensor([0.0150], grad_fn=<AddBackward0>), tensor(0.)],\n",
       " [tensor([0.0234], grad_fn=<AddBackward0>), tensor(0.)],\n",
       " [tensor([0.0408], grad_fn=<AddBackward0>), tensor(0.)],\n",
       " [tensor([0.0597], grad_fn=<AddBackward0>), tensor(0.)]]"
      ]
     },
     "execution_count": 21,
     "metadata": {},
     "output_type": "execute_result"
    }
   ],
   "source": [
    "val\n"
   ]
  },
  {
   "cell_type": "code",
   "execution_count": 22,
   "metadata": {},
   "outputs": [
    {
     "data": {
      "text/plain": [
       "[<matplotlib.lines.Line2D at 0x7fa9d9480b10>,\n",
       " <matplotlib.lines.Line2D at 0x7fa9d9480d10>]"
      ]
     },
     "execution_count": 22,
     "metadata": {},
     "output_type": "execute_result"
    },
    {
     "data": {
      "image/png": "[encoded data removed]",
      "text/plain": [
       "<Figure size 432x288 with 1 Axes>"
      ]
     },
     "metadata": {
      "needs_background": "light"
     },
     "output_type": "display_data"
    }
   ],
   "source": [
    "val = np.array(val,dtype=np.float64)\n",
    "time = [0.3,0.4,0.6,0.8,0.9,0.95,0.975,1.,1.025,1.05,1.1,1.2,1.3,1.5,1.75,2,2.5,3]\n",
    "plt.plot(time,val)"
   ]
  },
  {
   "cell_type": "code",
   "execution_count": 23,
   "metadata": {},
   "outputs": [
    {
     "data": {
      "text/plain": [
       "[<matplotlib.lines.Line2D at 0x7fa9d952f790>,\n",
       " <matplotlib.lines.Line2D at 0x7fa9d952f990>]"
      ]
     },
     "execution_count": 23,
     "metadata": {},
     "output_type": "execute_result"
    },
    {
     "data": {
      "image/png": "[encoded data removed]",
      "text/plain": [
       "<Figure size 432x288 with 1 Axes>"
      ]
     },
     "metadata": {
      "needs_background": "light"
     },
     "output_type": "display_data"
    }
   ],
   "source": [
    "val = np.array(val,dtype=np.float64)\n",
    "time = [0.3,0.4,0.6,0.8,0.9,0.95,0.975,1.,1.025,1.05,1.1,1.2,1.3,1.5,1.75,2,2.5,3]\n",
    "plt.plot(time,val)"
   ]
  },
  {
   "cell_type": "code",
   "execution_count": 24,
   "metadata": {},
   "outputs": [],
   "source": [
    "from pricing.newton_iv import newton_raphson\n",
    "from pricing.linear_iv import linear"
   ]
  },
  {
   "cell_type": "code",
   "execution_count": 25,
   "metadata": {},
   "outputs": [],
   "source": [
    "val = np.array(val,dtype=np.float64)\n",
    "res = []\n",
    "for i in range(len(val)) :\n",
    "    res.append(newton_raphson(1.,time[i],0.0,0.8,linear(1,time[i],0.0,0.8,val[i,0]) ,val[i,0], 1)) #i,1,0, 0.1, 0.8, 0"
   ]
  },
  {
   "cell_type": "code",
   "execution_count": 26,
   "metadata": {},
   "outputs": [
    {
     "data": {
      "text/plain": [
       "[<matplotlib.lines.Line2D at 0x7fa9a8eba190>]"
      ]
     },
     "execution_count": 26,
     "metadata": {},
     "output_type": "execute_result"
    },
    {
     "data": {
      "image/png": "[encoded data removed]",
      "text/plain": [
       "<Figure size 432x288 with 1 Axes>"
      ]
     },
     "metadata": {
      "needs_background": "light"
     },
     "output_type": "display_data"
    }
   ],
   "source": [
    "plt.plot(np.log(time),res)\n"
   ]
  },
  {
   "cell_type": "code",
   "execution_count": null,
   "metadata": {},
   "outputs": [],
   "source": []
  },
  {
   "cell_type": "code",
   "execution_count": null,
   "metadata": {},
   "outputs": [],
   "source": []
  },
  {
   "cell_type": "code",
   "execution_count": null,
   "metadata": {},
   "outputs": [],
   "source": []
  }
 ],
 "metadata": {
  "kernelspec": {
   "display_name": "Python 3",
   "language": "python",
   "name": "python3"
  },
  "language_info": {
   "codemirror_mode": {
    "name": "ipython",
    "version": 3
   },
   "file_extension": ".py",
   "mimetype": "text/x-python",
   "name": "python",
   "nbconvert_exporter": "python",
   "pygments_lexer": "ipython3",
   "version": "3.7.4"
  }
 },
 "nbformat": 4,
 "nbformat_minor": 4
}
