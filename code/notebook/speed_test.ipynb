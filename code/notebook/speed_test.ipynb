{
 "cells": [
  {
   "cell_type": "markdown",
   "metadata": {},
   "source": [
    "## Speed test"
   ]
  },
  {
   "cell_type": "markdown",
   "metadata": {},
   "source": [
    "In this notebook we compare the execution speed of the different pricing model and the imporvement made to speed them up."
   ]
  },
  {
   "cell_type": "code",
   "execution_count": 39,
   "metadata": {},
   "outputs": [],
   "source": [
    "import numpy as np\n",
    "import pandas as pd\n",
    "import ast\n",
    "import os\n",
    "import sys\n",
    "from os.path import dirname as up\n",
    "\n",
    "# Important directories\n",
    "code_dir = os.path.dirname(os.getcwd())\n",
    "deep_cal_dir = os.path.dirname(os.path.dirname(os.getcwd()))\n",
    "\n",
    "# Allows to import my own module\n",
    "sys.path.insert(0, code_dir)\n",
    "\n",
    "from pricing.liftedheston import Pricer_Lifted_Heston\n",
    "from pricing.legacyliftedheston import Legacy_Pricer_Lifted_Heston\n",
    "from pricing.linear_iv import linear\n",
    "from pricing.newton_iv import newton_raphson\n",
    "from pricing.brent_iv import brent, call_BS\n",
    "from pricing.heston_fourier import price_heston_fourier\n",
    "from pricing.legacy import price_heston_mc_legacy\n",
    "from pricing.heston_mc import price_heston_mc"
   ]
  },
  {
   "cell_type": "markdown",
   "metadata": {},
   "source": [
    "### Linear implied volatility"
   ]
  },
  {
   "cell_type": "code",
   "execution_count": 2,
   "metadata": {},
   "outputs": [
    {
     "name": "stdout",
     "output_type": "stream",
     "text": [
      "11.8 µs ± 407 ns per loop (mean ± std. dev. of 7 runs, 100000 loops each)\n"
     ]
    }
   ],
   "source": [
    "%timeit linear(S_=0.8,K_=1.,r_=0.03,tau_=0.8,price_=3)"
   ]
  },
  {
   "cell_type": "markdown",
   "metadata": {},
   "source": [
    "### Newton implied volatility "
   ]
  },
  {
   "cell_type": "code",
   "execution_count": 3,
   "metadata": {},
   "outputs": [
    {
     "name": "stdout",
     "output_type": "stream",
     "text": [
      "647 µs ± 19.9 µs per loop (mean ± std. dev. of 7 runs, 1000 loops each)\n"
     ]
    }
   ],
   "source": [
    "%timeit newton_raphson(S_=0.8,K_=1.,r_=0.03,tau_=0.8, sigma0_= 0.1,price_=3, epsilon_=1e-5)"
   ]
  },
  {
   "cell_type": "markdown",
   "metadata": {},
   "source": [
    "### Brent implied Volatility "
   ]
  },
  {
   "cell_type": "code",
   "execution_count": 4,
   "metadata": {},
   "outputs": [
    {
     "name": "stdout",
     "output_type": "stream",
     "text": [
      "1.06 ms ± 43.3 µs per loop (mean ± std. dev. of 7 runs, 1000 loops each)\n"
     ]
    }
   ],
   "source": [
    "%timeit brent(S_=0.8,K_=1.,r_=0.03,tau_=0.8, sigma0_= 0.1,sigma1_=0.5,price_=3, epsilon_=1e-5)"
   ]
  },
  {
   "cell_type": "markdown",
   "metadata": {},
   "source": [
    "### BS"
   ]
  },
  {
   "cell_type": "code",
   "execution_count": 75,
   "metadata": {},
   "outputs": [],
   "source": [
    "import scipy.stats as stats\n",
    "import scipy as scp\n",
    "def call_option(S_, K_, r_,sigma_ ,tau_ ):\n",
    "    d1_ = 1 / (sigma_ * np.sqrt(tau_)) * (np.log(S_/K_) + (r_ + sigma_**2/2) * tau_)\n",
    "    d2_ = d1_ - sigma_ * np.sqrt(tau_)\n",
    "    return stats.norm.cdf(d1_) * S_ - stats.norm.cdf(d2_) * K_ * np.exp(-r_ *tau_) -2.352700679476849e-06"
   ]
  },
  {
   "cell_type": "code",
   "execution_count": 40,
   "metadata": {},
   "outputs": [
    {
     "name": "stdout",
     "output_type": "stream",
     "text": [
      "158 µs ± 5.31 µs per loop (mean ± std. dev. of 7 runs, 10000 loops each)\n"
     ]
    }
   ],
   "source": [
    "%timeit call_BS(S_=1, K_=0.9, r_=-0.7,sigma_=0.221 ,tau_=0.5,price=0)"
   ]
  },
  {
   "cell_type": "code",
   "execution_count": 79,
   "metadata": {},
   "outputs": [
    {
     "data": {
      "text/plain": [
       "0.26973093490803707"
      ]
     },
     "execution_count": 79,
     "metadata": {},
     "output_type": "execute_result"
    }
   ],
   "source": [
    "scp.optimize.brentq(lambda x: call_option(S_=1, K_=1.5, r_=-0.7,sigma_=x ,tau_=.5),-100,100)"
   ]
  },
  {
   "cell_type": "markdown",
   "metadata": {},
   "source": [
    "### Heston Fourier"
   ]
  },
  {
   "cell_type": "code",
   "execution_count": 5,
   "metadata": {},
   "outputs": [
    {
     "name": "stdout",
     "output_type": "stream",
     "text": [
      "4.2 ms ± 163 µs per loop (mean ± std. dev. of 7 runs, 100 loops each)\n"
     ]
    }
   ],
   "source": [
    "%timeit price_heston_fourier(K_=1.,alpha_=1.,r_=0.05,tau_=0.8,kappa_=1.5,S0_=0.8,theta_=0.1,rho_=-0.05,sigma_=0.3,V0_=0.1,L_=50)"
   ]
  },
  {
   "cell_type": "code",
   "execution_count": 74,
   "metadata": {},
   "outputs": [
    {
     "data": {
      "text/plain": [
       "2.352700679476849e-06"
      ]
     },
     "execution_count": 74,
     "metadata": {},
     "output_type": "execute_result"
    }
   ],
   "source": [
    "price_heston_fourier(K_=1.5,alpha_=1.,r_=0.03,tau_=0.5,kappa_=2,S0_=1,theta_=0.04,rho_=-0.7,sigma_=0.5,V0_=0.04,L_=50)\n",
    "# price_heston_fourier(90,1,0.03,0.5,2,100,0.04,-0.7,0.5,0.04,50)"
   ]
  },
  {
   "cell_type": "markdown",
   "metadata": {},
   "source": [
    "### Heston Monte Carlo"
   ]
  },
  {
   "cell_type": "markdown",
   "metadata": {},
   "source": [
    "Legacy version"
   ]
  },
  {
   "cell_type": "code",
   "execution_count": 6,
   "metadata": {},
   "outputs": [
    {
     "name": "stdout",
     "output_type": "stream",
     "text": [
      "831 ms ± 27.2 ms per loop (mean ± std. dev. of 7 runs, 1 loop each)\n"
     ]
    }
   ],
   "source": [
    "%timeit price_heston_mc_legacy(kappa_=1.5,theta_=0.1,sigma_=0.3,rho_=-0.05,r_=0.05,T_=0.8,L_=100,V0_=0.1,S0_=0.8,K0_=1,N_=1000)"
   ]
  },
  {
   "cell_type": "code",
   "execution_count": 26,
   "metadata": {},
   "outputs": [
    {
     "data": {
      "text/plain": [
       "0.12812334028991254"
      ]
     },
     "execution_count": 26,
     "metadata": {},
     "output_type": "execute_result"
    }
   ],
   "source": [
    "price_heston_mc_legacy(kappa_=2,theta_=0.04,sigma_=0.04,rho_=-0.7,r_=0.03,T_=0.5,L_=100,V0_=0.04,S0_=1,K0_=0.9,N_=1000)"
   ]
  },
  {
   "cell_type": "markdown",
   "metadata": {},
   "source": [
    "Speed up mc"
   ]
  },
  {
   "cell_type": "code",
   "execution_count": 25,
   "metadata": {},
   "outputs": [
    {
     "name": "stdout",
     "output_type": "stream",
     "text": [
      "47.2 ms ± 1.11 ms per loop (mean ± std. dev. of 7 runs, 10 loops each)\n"
     ]
    }
   ],
   "source": [
    "%timeit price_heston_mc(kappa_=2,theta_=0.04,sigma_=0.04,rho_=-0.7,r_=0.03,T_=0.5,L_=100,V0_=0.04,S0_=1,K0_=0.9,N_=1000)"
   ]
  },
  {
   "cell_type": "code",
   "execution_count": 36,
   "metadata": {},
   "outputs": [
    {
     "data": {
      "text/plain": [
       "0.13216876097762117"
      ]
     },
     "execution_count": 36,
     "metadata": {},
     "output_type": "execute_result"
    }
   ],
   "source": [
    "price_heston_mc(kappa_=2,theta_=0.04,sigma_=0.04,rho_=-0.7,r_=0.03,T_=0.5,L_=100,V0_=0.04,S0_=1,K0_=0.9,N_=1000)"
   ]
  },
  {
   "cell_type": "code",
   "execution_count": 28,
   "metadata": {},
   "outputs": [
    {
     "name": "stdout",
     "output_type": "stream",
     "text": [
      "261 ms ± 10.1 ms per loop (mean ± std. dev. of 7 runs, 1 loop each)\n"
     ]
    }
   ],
   "source": [
    "%timeit Pricer_Lifted_Heston(0.9,0.03,1,0.5,rho=-0.7,lamb=0.04,theta=0.04,nu=0.3,V0=0.04,N=20,rN=2.5,alpha=0.1+1/2,M=200,L_=50)"
   ]
  },
  {
   "cell_type": "code",
   "execution_count": 35,
   "metadata": {},
   "outputs": [
    {
     "data": {
      "text/plain": [
       "array([0.11823299])"
      ]
     },
     "execution_count": 35,
     "metadata": {},
     "output_type": "execute_result"
    }
   ],
   "source": [
    "Pricer_Lifted_Heston(0.9,0.03,1,0.5,rho=-0.7,lamb=0.04,theta=0.04,nu=0.1,V0=0.04,N=20,rN=2.5,alpha=0.1+1/2,M=200,L_=50)"
   ]
  },
  {
   "cell_type": "code",
   "execution_count": 9,
   "metadata": {},
   "outputs": [
    {
     "name": "stdout",
     "output_type": "stream",
     "text": [
      "828 ms ± 4.45 ms per loop (mean ± std. dev. of 7 runs, 1 loop each)\n"
     ]
    }
   ],
   "source": [
    "%timeit Legacy_Pricer_Lifted_Heston(1,0.03,0.8,0.8,rho=-0.7,lamb=0.3,theta=0.02,nu=0.3,V0=0.02,N=20,rN=2.5,alpha=0.1+1/2,M=200,L_=50)"
   ]
  }
 ],
 "metadata": {
  "kernelspec": {
   "display_name": "Python 3",
   "language": "python",
   "name": "python3"
  },
  "language_info": {
   "codemirror_mode": {
    "name": "ipython",
    "version": 3
   },
   "file_extension": ".py",
   "mimetype": "text/x-python",
   "name": "python",
   "nbconvert_exporter": "python",
   "pygments_lexer": "ipython3",
   "version": "3.7.4"
  }
 },
 "nbformat": 4,
 "nbformat_minor": 4
}
