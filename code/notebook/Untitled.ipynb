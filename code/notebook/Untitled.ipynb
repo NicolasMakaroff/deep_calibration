{
 "cells": [
  {
   "cell_type": "code",
   "execution_count": 1,
   "metadata": {},
   "outputs": [
    {
     "name": "stderr",
     "output_type": "stream",
     "text": [
      "/Users/nicolasmakaroff/anaconda3/lib/python3.7/site-packages/sklearn/externals/joblib/__init__.py:15: FutureWarning: sklearn.externals.joblib is deprecated in 0.21 and will be removed in 0.23. Please import this functionality directly from joblib, which can be installed with: pip install joblib. If this warning is raised when loading pickled models, you may need to re-serialize those models with scikit-learn 0.21+.\n",
      "  warnings.warn(msg, category=FutureWarning)\n",
      "/Users/nicolasmakaroff/anaconda3/lib/python3.7/site-packages/sklearn/utils/deprecation.py:144: FutureWarning: The sklearn.metrics.scorer module is  deprecated in version 0.22 and will be removed in version 0.24. The corresponding classes / functions should instead be imported from sklearn.metrics. Anything that cannot be imported from sklearn.metrics is now part of the private API.\n",
      "  warnings.warn(message, FutureWarning)\n"
     ]
    }
   ],
   "source": [
    "# Standard library imports\n",
    "import numpy as np\n",
    "import pandas as pd\n",
    "import ast\n",
    "import os\n",
    "import sys\n",
    "from os.path import dirname as up\n",
    "\n",
    "# Important directories\n",
    "code_dir = os.path.dirname(os.getcwd())\n",
    "deep_cal_dir = os.path.dirname(os.path.dirname(os.getcwd()))\n",
    "\n",
    "# Allows to import my own module\n",
    "sys.path.insert(0, code_dir)\n",
    "\n",
    "import calibration\n",
    "import pricing_model"
   ]
  },
  {
   "cell_type": "code",
   "execution_count": 2,
   "metadata": {},
   "outputs": [],
   "source": [
    "input_ = []\n",
    "for i in np.arange(0.5,1.6,0.1):\n",
    "    for j in [0.1,0.3,0.6,0.9,1.2,1.5,1.8,2.0]:\n",
    "        c = pricing_model.C(K_=1.,alpha_=1.,r_=0.05,tau_=j,kappa_=1.5,S0_=i,theta_=0.1,rho_=-0.05,sigma_=0.3,V0_=0.1,L_=50)\n",
    "        input_.append([i,j,c])\n",
    "input_ = np.array(input_)"
   ]
  },
  {
   "cell_type": "code",
   "execution_count": 10,
   "metadata": {},
   "outputs": [
    {
     "name": "stdout",
     "output_type": "stream",
     "text": [
      "[Real(low=0, high=0.1, prior='uniform', transform='identity', name='r'), Real(low=-0.95, high=0, prior='uniform', transform='identity', name='rho'), Real(low=0, high=2, prior='uniform', transform='identity', name='lambda'), Real(low=0, high=0.5, prior='uniform', transform='identity', name='nu'), Real(low=0, high=0.5, prior='uniform', transform='identity', name='theta'), Real(low=0.05, high=0.5, prior='uniform', transform='identity', name='v0')]\n"
     ]
    }
   ],
   "source": [
    "params = {\n",
    "    'r': [0,0.1],\n",
    "    'rho': [-0.95,0],\n",
    "    'lambda': [0,2],\n",
    "    'nu': [0,0.5],\n",
    "    'theta': [0,0.5],\n",
    "    'v0': [0.05,0.5]\n",
    "}\n",
    "dimensions = calibration.set_params_range(params)"
   ]
  },
  {
   "cell_type": "code",
   "execution_count": 11,
   "metadata": {},
   "outputs": [],
   "source": [
    "from skopt import gp_minimize\n",
    "func = calibration.fitness\n"
   ]
  },
  {
   "cell_type": "code",
   "execution_count": null,
   "metadata": {},
   "outputs": [],
   "source": []
  }
 ],
 "metadata": {
  "kernelspec": {
   "display_name": "Python 3",
   "language": "python",
   "name": "python3"
  },
  "language_info": {
   "codemirror_mode": {
    "name": "ipython",
    "version": 3
   },
   "file_extension": ".py",
   "mimetype": "text/x-python",
   "name": "python",
   "nbconvert_exporter": "python",
   "pygments_lexer": "ipython3",
   "version": "3.7.4"
  }
 },
 "nbformat": 4,
 "nbformat_minor": 4
}
