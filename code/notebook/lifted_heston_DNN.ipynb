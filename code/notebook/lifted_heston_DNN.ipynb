{
 "cells": [
  {
   "cell_type": "code",
   "execution_count": 1,
   "metadata": {
    "colab": {},
    "colab_type": "code",
    "id": "z4qMPLfTKf23"
   },
   "outputs": [],
   "source": [
    "# Standard library imports\n",
    "import numpy as np\n",
    "import pandas as pd\n",
    "import ast\n",
    "import os\n",
    "import sys\n",
    "import logging\n",
    "from os.path import dirname as up\n",
    "\n",
    "# Important directories\n",
    "code_dir = os.path.dirname(os.getcwd())\n",
    "deep_cal_dir = os.path.dirname(os.path.dirname(os.getcwd()))\n",
    "\n",
    "# Allows to import my own module\n",
    "sys.path.insert(0, code_dir)\n",
    "\n",
    "from ann.model import RegressorLiftedHeston\n",
    "from ann.helpers import open_data, norm, create_train_test_split\n",
    "from ann.dataloader import LiftedHestonDataset\n",
    "from ann.train import train\n",
    "\n",
    "from torch.utils.data import DataLoader\n",
    "from torch import nn, optim\n",
    "import seaborn as sns"
   ]
  },
  {
   "cell_type": "code",
   "execution_count": 2,
   "metadata": {
    "colab": {
     "base_uri": "https://localhost:8080/",
     "height": 399
    },
    "colab_type": "code",
    "id": "XrXpk-3ULXAN",
    "outputId": "439417cf-3b53-4432-db22-ba0292e95edb"
   },
   "outputs": [
    {
     "name": "stdout",
     "output_type": "stream",
     "text": [
      "Five first rows of the generated DataFrame : \n",
      "           r       rho    lambda        nu     theta        v0  \\\n",
      "0  0.087345 -0.345281  1.797595  0.108334  0.373375  0.306434   \n",
      "1  0.053734 -0.299285  0.815884  0.197408  0.314842  0.099705   \n",
      "2  0.064063 -0.605398  1.594868  0.179371  0.353517  0.066062   \n",
      "3  0.072809 -0.190020  1.548088  0.485789  0.139705  0.497143   \n",
      "4  0.041415 -0.025787  1.500803  0.257766  0.135586  0.295568   \n",
      "\n",
      "                                             vol_imp  \n",
      "0  [2.5740481126152277, 1.2547427160366569, 0.684...  \n",
      "1  [2.5740388185920797, 1.2469129301995416, 0.603...  \n",
      "2  [2.574038812011191, 1.2468701153260764, 0.6083...  \n",
      "3  [2.5742988249225363, 1.259290445567614, 0.6760...  \n",
      "4  [2.574052452786126, 1.2501608960087736, 0.6332...  \n",
      "\n",
      "DataFrame shape : (40000, 7)\n",
      "\n"
     ]
    }
   ],
   "source": [
    "database = open_data(deep_cal_dir + '/data/heston_img.csv',info=True) \n",
    "database['vol_imp'] = database['vol_imp'].apply(ast.literal_eval)  \n",
    "database['vol_imp'] = database['vol_imp'].apply(np.array)  \n"
   ]
  },
  {
   "cell_type": "code",
   "execution_count": 3,
   "metadata": {
    "colab": {
     "base_uri": "https://localhost:8080/",
     "height": 52
    },
    "colab_type": "code",
    "id": "gFwyDN4pLnDJ",
    "outputId": "220f397d-7f10-4de4-b381-5217afeede1a"
   },
   "outputs": [],
   "source": [
    "train_data, train_labels, test_data, test_labels = create_train_test_split(database,0.8,1.,'vol_imp',norm=False,lifted=True,random_state = 123) "
   ]
  },
  {
   "cell_type": "code",
   "execution_count": 4,
   "metadata": {
    "colab": {},
    "colab_type": "code",
    "id": "6ybB1JKsPwlC"
   },
   "outputs": [],
   "source": [
    "train_dataset = LiftedHestonDataset(train_data,train_labels)\n",
    "train_loader = DataLoader(dataset=train_dataset,\n",
    "                          batch_size=32,\n",
    "                          shuffle=True,\n",
    "                          num_workers=1)\n",
    "\n",
    "test_dataset = LiftedHestonDataset(test_data,test_labels)\n",
    "test_loader = DataLoader(dataset=test_dataset,\n",
    "                          batch_size=32,\n",
    "                          shuffle=True,\n",
    "                          num_workers=1)"
   ]
  },
  {
   "cell_type": "code",
   "execution_count": 5,
   "metadata": {
    "colab": {},
    "colab_type": "code",
    "id": "_Lc1iHBURB1U"
   },
   "outputs": [],
   "source": [
    "model = RegressorLiftedHeston()"
   ]
  },
  {
   "cell_type": "markdown",
   "metadata": {},
   "source": [
    "We can make a trial training with 100 epochs."
   ]
  },
  {
   "cell_type": "code",
   "execution_count": 7,
   "metadata": {
    "colab": {
     "base_uri": "https://localhost:8080/",
     "height": 1000
    },
    "colab_type": "code",
    "id": "yB4mNa9ERctI",
    "outputId": "cfb48a22-1a28-471f-d615-9b93f441a175"
   },
   "outputs": [
    {
     "data": {
      "application/vnd.jupyter.widget-view+json": {
       "model_id": "e89b0a9a1cc14ef28f52e70ca5c80446",
       "version_major": 2,
       "version_minor": 0
      },
      "text/plain": [
       "HBox(children=(FloatProgress(value=0.0, description='Epoch', style=ProgressStyle(description_width='initial'))…"
      ]
     },
     "metadata": {},
     "output_type": "display_data"
    },
    {
     "name": "stdout",
     "output_type": "stream",
     "text": [
      "Validation loss decreased (inf --> 0.0010525922989472747).  Saving model ...\n",
      "Validation loss decreased (0.0010525922989472747 --> 0.0008275320869870484).  Saving model ...\n",
      "Validation loss decreased (0.0008275320869870484 --> 0.0007765439222566783).  Saving model ...\n",
      "Validation loss decreased (0.0007765439222566783 --> 0.0006737885414622724).  Saving model ...\n",
      "Validation loss decreased (0.0006737885414622724 --> 0.00046566451783291996).  Saving model ...\n",
      "Validation loss decreased (0.00046566451783291996 --> 0.0004180661926511675).  Saving model ...\n",
      "Validation loss decreased (0.0004180661926511675 --> 0.00034762316499836743).  Saving model ...\n",
      "Validation loss decreased (0.00034762316499836743 --> 0.00034740340197458863).  Saving model ...\n",
      "Validation loss decreased (0.00034740340197458863 --> 0.00030432670610025525).  Saving model ...\n",
      "Validation loss decreased (0.00030432670610025525 --> 0.00027144557680003345).  Saving model ...\n",
      "Validation loss decreased (0.00027144557680003345 --> 0.0002661224571056664).  Saving model ...\n",
      "Validation loss decreased (0.0002661224571056664 --> 0.00023517574300058186).  Saving model ...\n",
      "Validation loss decreased (0.00023517574300058186 --> 0.00021807716984767467).  Saving model ...\n",
      "Validation loss decreased (0.00021807716984767467 --> 0.00020905914425384253).  Saving model ...\n",
      "Validation loss decreased (0.00020905914425384253 --> 0.00020543108985293657).  Saving model ...\n",
      "Validation loss decreased (0.00020543108985293657 --> 0.0001817103911889717).  Saving model ...\n",
      "Validation loss decreased (0.0001817103911889717 --> 0.00016844215861056).  Saving model ...\n",
      "Validation loss decreased (0.00016844215861056 --> 0.0001662763679632917).  Saving model ...\n",
      "Validation loss decreased (0.0001662763679632917 --> 0.00016139082435984164).  Saving model ...\n",
      "Validation loss decreased (0.00016139082435984164 --> 0.00015440188872162253).  Saving model ...\n",
      "Validation loss decreased (0.00015440188872162253 --> 0.00014724645006936044).  Saving model ...\n",
      "Validation loss decreased (0.00014724645006936044 --> 0.00014489643217530102).  Saving model ...\n",
      "Validation loss decreased (0.00014489643217530102 --> 0.00014221832680050284).  Saving model ...\n",
      "Validation loss decreased (0.00014221832680050284 --> 0.00014079418906476349).  Saving model ...\n",
      "Validation loss decreased (0.00014079418906476349 --> 0.00013642806152347475).  Saving model ...\n",
      "Validation loss decreased (0.00013642806152347475 --> 0.00013317914272192866).  Saving model ...\n",
      "Validation loss decreased (0.00013317914272192866 --> 0.00013083270459901541).  Saving model ...\n",
      "Validation loss decreased (0.00013083270459901541 --> 0.00012990631512366235).  Saving model ...\n",
      "Validation loss decreased (0.00012990631512366235 --> 0.00012205988605273888).  Saving model ...\n",
      "Validation loss decreased (0.00012205988605273888 --> 0.00011228669609408826).  Saving model ...\n",
      "Validation loss decreased (0.00011228669609408826 --> 0.00011096935486420989).  Saving model ...\n",
      "Validation loss decreased (0.00011096935486420989 --> 0.00011020091187674552).  Saving model ...\n",
      "Validation loss decreased (0.00011020091187674552 --> 0.00010655866208253428).  Saving model ...\n",
      "Validation loss decreased (0.00010655866208253428 --> 0.00010321778972866014).  Saving model ...\n",
      "Validation loss decreased (0.00010321778972866014 --> 0.00010106843546964228).  Saving model ...\n",
      "Validation loss decreased (0.00010106843546964228 --> 9.95328591670841e-05).  Saving model ...\n",
      "Validation loss decreased (9.95328591670841e-05 --> 9.852675430011004e-05).  Saving model ...\n",
      "Validation loss decreased (9.852675430011004e-05 --> 9.736436186358333e-05).  Saving model ...\n",
      "Validation loss decreased (9.736436186358333e-05 --> 9.166393283521757e-05).  Saving model ...\n",
      "Validation loss decreased (9.166393283521757e-05 --> 9.158359898719937e-05).  Saving model ...\n",
      "\n"
     ]
    },
    {
     "data": {
      "text/plain": [
       "(    Train Losses         Test Losses  Learning Rate\n",
       " 0       0.008858  tensor(4.2104e-06)          0.001\n",
       " 1       0.000921  tensor(3.3101e-06)          0.001\n",
       " 2       0.000777  tensor(3.1062e-06)          0.001\n",
       " 3       0.000703  tensor(2.6952e-06)          0.001\n",
       " 4       0.000562  tensor(1.8627e-06)          0.001\n",
       " ..           ...                 ...            ...\n",
       " 95      0.000099  tensor(3.9905e-07)          0.001\n",
       " 96      0.000099  tensor(4.1240e-07)          0.001\n",
       " 97      0.000097  tensor(3.8592e-07)          0.001\n",
       " 98      0.000097  tensor(3.7699e-07)          0.001\n",
       " 99      0.000098  tensor(3.9969e-07)          0.001\n",
       " \n",
       " [100 rows x 3 columns],\n",
       " tensor(9.1584e-05))"
      ]
     },
     "execution_count": 7,
     "metadata": {},
     "output_type": "execute_result"
    }
   ],
   "source": [
    "train(model,train_loader,test_loader,nb_epochs=100,seed=0,save_model_dir=code_dir + '/ann/ckpt_model',log_df= code_dir + '/ann/learning_csv/log_df.csv')"
   ]
  }
 ],
 "metadata": {
  "accelerator": "GPU",
  "colab": {
   "collapsed_sections": [],
   "name": "lifted-hestonDNN-implied-volatility.ipynb",
   "provenance": []
  },
  "kernelspec": {
   "display_name": "Python 3",
   "language": "python",
   "name": "python3"
  },
  "language_info": {
   "codemirror_mode": {
    "name": "ipython",
    "version": 3
   },
   "file_extension": ".py",
   "mimetype": "text/x-python",
   "name": "python",
   "nbconvert_exporter": "python",
   "pygments_lexer": "ipython3",
   "version": "3.7.4"
  }
 },
 "nbformat": 4,
 "nbformat_minor": 4
}
