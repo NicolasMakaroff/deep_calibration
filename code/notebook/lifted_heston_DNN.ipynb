{
 "cells": [
  {
   "cell_type": "code",
   "execution_count": 1,
   "metadata": {
    "colab": {},
    "colab_type": "code",
    "id": "z4qMPLfTKf23"
   },
   "outputs": [],
   "source": [
    "# Standard library imports\n",
    "import numpy as np\n",
    "import pandas as pd\n",
    "import ast\n",
    "import os\n",
    "import sys\n",
    "import logging\n",
    "from os.path import dirname as up\n",
    "\n",
    "# Important directories\n",
    "code_dir = os.path.dirname(os.getcwd())\n",
    "deep_cal_dir = os.path.dirname(os.path.dirname(os.getcwd()))\n",
    "\n",
    "# Allows to import my own module\n",
    "sys.path.insert(0, code_dir)\n",
    "\n",
    "from ann.model import RegressorLiftedHeston\n",
    "from ann.helpers import open_data, norm, create_train_test_split\n",
    "from ann.dataloader import LiftedHestonDataset\n",
    "from ann.train import train\n",
    "\n",
    "from torch.utils.data import DataLoader\n",
    "from torch import nn, optim\n",
    "import seaborn as sns"
   ]
  },
  {
   "cell_type": "code",
   "execution_count": 2,
   "metadata": {
    "colab": {
     "base_uri": "https://localhost:8080/",
     "height": 399
    },
    "colab_type": "code",
    "id": "XrXpk-3ULXAN",
    "outputId": "439417cf-3b53-4432-db22-ba0292e95edb"
   },
   "outputs": [
    {
     "name": "stdout",
     "output_type": "stream",
     "text": [
      "Five first rows of the generated DataFrame : \n",
      "           r       rho    lambda        nu     theta        v0  \\\n",
      "0  0.087345 -0.345281  1.797595  0.108334  0.373375  0.306434   \n",
      "1  0.053734 -0.299285  0.815884  0.197408  0.314842  0.099705   \n",
      "2  0.064063 -0.605398  1.594868  0.179371  0.353517  0.066062   \n",
      "3  0.072809 -0.190020  1.548088  0.485789  0.139705  0.497143   \n",
      "4  0.041415 -0.025787  1.500803  0.257766  0.135586  0.295568   \n",
      "\n",
      "                                             vol_imp  \n",
      "0  [2.5740481126152277, 1.2547427160366569, 0.684...  \n",
      "1  [2.5740388185920797, 1.2469129301995416, 0.603...  \n",
      "2  [2.574038812011191, 1.2468701153260764, 0.6083...  \n",
      "3  [2.5742988249225363, 1.259290445567614, 0.6760...  \n",
      "4  [2.574052452786126, 1.2501608960087736, 0.6332...  \n",
      "\n",
      "DataFrame shape : (40000, 7)\n",
      "\n"
     ]
    }
   ],
   "source": [
    "database = open_data(deep_cal_dir + '/data/heston_img.csv',info=True) \n",
    "database['vol_imp'] = database['vol_imp'].apply(ast.literal_eval)  \n",
    "database['vol_imp'] = database['vol_imp'].apply(np.array)  \n"
   ]
  },
  {
   "cell_type": "code",
   "execution_count": 3,
   "metadata": {
    "colab": {
     "base_uri": "https://localhost:8080/",
     "height": 52
    },
    "colab_type": "code",
    "id": "gFwyDN4pLnDJ",
    "outputId": "220f397d-7f10-4de4-b381-5217afeede1a"
   },
   "outputs": [],
   "source": [
    "train_data, train_labels, test_data, test_labels = create_train_test_split(database,0.8,1.,'vol_imp',norm=False,lifted=True,random_state = 123) "
   ]
  },
  {
   "cell_type": "code",
   "execution_count": 4,
   "metadata": {
    "colab": {},
    "colab_type": "code",
    "id": "6ybB1JKsPwlC"
   },
   "outputs": [],
   "source": [
    "train_dataset = LiftedHestonDataset(train_data,train_labels)\n",
    "train_loader = DataLoader(dataset=train_dataset,\n",
    "                          batch_size=32,\n",
    "                          shuffle=True,\n",
    "                          num_workers=1)\n",
    "\n",
    "test_dataset = LiftedHestonDataset(test_data,test_labels)\n",
    "test_loader = DataLoader(dataset=test_dataset,\n",
    "                          batch_size=32,\n",
    "                          shuffle=True,\n",
    "                          num_workers=1)"
   ]
  },
  {
   "cell_type": "code",
   "execution_count": 5,
   "metadata": {
    "colab": {},
    "colab_type": "code",
    "id": "_Lc1iHBURB1U"
   },
   "outputs": [],
   "source": [
    "model = RegressorLiftedHeston()"
   ]
  },
  {
   "cell_type": "markdown",
   "metadata": {},
   "source": [
    "We can make a trial training with 100 epochs.\n",
    "\n",
    "You can follow up training by going to your terminal and writing :\n",
    "`\n",
    "    >>> tensorboard --logdir=code/ann/runs/lifted_heston_experiment --port 6009\n",
    "`"
   ]
  },
  {
   "cell_type": "code",
   "execution_count": null,
   "metadata": {
    "colab": {
     "base_uri": "https://localhost:8080/",
     "height": 1000
    },
    "colab_type": "code",
    "id": "yB4mNa9ERctI",
    "outputId": "cfb48a22-1a28-471f-d615-9b93f441a175"
   },
   "outputs": [
    {
     "data": {
      "application/vnd.jupyter.widget-view+json": {
       "model_id": "2aa08eded89e47e88c2425d47f92add0",
       "version_major": 2,
       "version_minor": 0
      },
      "text/plain": [
       "HBox(children=(FloatProgress(value=0.0, description='Epoch', style=ProgressStyle(description_width='initial'))…"
      ]
     },
     "metadata": {},
     "output_type": "display_data"
    },
    {
     "name": "stdout",
     "output_type": "stream",
     "text": [
      "Validation loss decreased (inf --> 0.001271086628548801).  Saving model ...\n",
      "Validation loss decreased (0.001271086628548801 --> 0.000861037231516093).  Saving model ...\n",
      "Validation loss decreased (0.000861037231516093 --> 0.000813707010820508).  Saving model ...\n",
      "Validation loss decreased (0.000813707010820508 --> 0.000677344563882798).  Saving model ...\n",
      "Validation loss decreased (0.000677344563882798 --> 0.0005604851176030934).  Saving model ...\n",
      "Validation loss decreased (0.0005604851176030934 --> 0.0004894191515631974).  Saving model ...\n",
      "Validation loss decreased (0.0004894191515631974 --> 0.00039137061685323715).  Saving model ...\n",
      "Validation loss decreased (0.00039137061685323715 --> 0.0003496530407574028).  Saving model ...\n",
      "Validation loss decreased (0.0003496530407574028 --> 0.00031754840165376663).  Saving model ...\n",
      "Validation loss decreased (0.00031754840165376663 --> 0.000263731722952798).  Saving model ...\n",
      "Validation loss decreased (0.000263731722952798 --> 0.0002409715816611424).  Saving model ...\n",
      "Validation loss decreased (0.0002409715816611424 --> 0.00023986893938854337).  Saving model ...\n",
      "Validation loss decreased (0.00023986893938854337 --> 0.00022492583957500756).  Saving model ...\n",
      "Validation loss decreased (0.00022492583957500756 --> 0.0002220369060523808).  Saving model ...\n",
      "Validation loss decreased (0.0002220369060523808 --> 0.00021698755153920501).  Saving model ...\n",
      "Validation loss decreased (0.00021698755153920501 --> 0.00019996927585452795).  Saving model ...\n",
      "Validation loss decreased (0.00019996927585452795 --> 0.00019281778077129275).  Saving model ...\n",
      "Validation loss decreased (0.00019281778077129275 --> 0.00017690457752905786).  Saving model ...\n",
      "Validation loss decreased (0.00017690457752905786 --> 0.00017318165919277817).  Saving model ...\n",
      "Validation loss decreased (0.00017318165919277817 --> 0.00015329215966630727).  Saving model ...\n",
      "Validation loss decreased (0.00015329215966630727 --> 0.0001488181296736002).  Saving model ...\n",
      "Validation loss decreased (0.0001488181296736002 --> 0.0001487848348915577).  Saving model ...\n",
      "Validation loss decreased (0.0001487848348915577 --> 0.00013017818855587393).  Saving model ...\n",
      "Validation loss decreased (0.00013017818855587393 --> 0.00012884281750302762).  Saving model ...\n",
      "Validation loss decreased (0.00012884281750302762 --> 0.00012059714936185628).  Saving model ...\n",
      "Validation loss decreased (0.00012059714936185628 --> 0.00011897094373125583).  Saving model ...\n",
      "Validation loss decreased (0.00011897094373125583 --> 0.00011646636994555593).  Saving model ...\n",
      "Validation loss decreased (0.00011646636994555593 --> 0.000111111716250889).  Saving model ...\n",
      "Validation loss decreased (0.000111111716250889 --> 0.00011062362318625674).  Saving model ...\n",
      "Validation loss decreased (0.00011062362318625674 --> 0.00010331413068342954).  Saving model ...\n",
      "Validation loss decreased (0.00010331413068342954 --> 0.00010294840467395261).  Saving model ...\n",
      "Validation loss decreased (0.00010294840467395261 --> 0.00010072090663015842).  Saving model ...\n",
      "Validation loss decreased (0.00010072090663015842 --> 9.868978668237105e-05).  Saving model ...\n",
      "Validation loss decreased (9.868978668237105e-05 --> 9.840781422099099e-05).  Saving model ...\n",
      "Validation loss decreased (9.840781422099099e-05 --> 9.736741776578128e-05).  Saving model ...\n",
      "Validation loss decreased (9.736741776578128e-05 --> 9.036630945047364e-05).  Saving model ...\n",
      "Validation loss decreased (9.036630945047364e-05 --> 9.031772060552612e-05).  Saving model ...\n",
      "Validation loss decreased (9.031772060552612e-05 --> 8.671699470141903e-05).  Saving model ...\n",
      "Validation loss decreased (8.671699470141903e-05 --> 8.587251068092883e-05).  Saving model ...\n",
      "Validation loss decreased (8.587251068092883e-05 --> 8.465187420370057e-05).  Saving model ...\n"
     ]
    }
   ],
   "source": [
    "train(model,train_loader,test_loader,nb_epochs=100,seed=0,save_model_dir=code_dir + '/ann/ckpt_model',log_df= code_dir + '/ann/learning_csv/log_df.csv')"
   ]
  },
  {
   "cell_type": "code",
   "execution_count": null,
   "metadata": {},
   "outputs": [],
   "source": []
  },
  {
   "cell_type": "code",
   "execution_count": null,
   "metadata": {},
   "outputs": [],
   "source": []
  }
 ],
 "metadata": {
  "accelerator": "GPU",
  "colab": {
   "collapsed_sections": [],
   "name": "lifted-hestonDNN-implied-volatility.ipynb",
   "provenance": []
  },
  "kernelspec": {
   "display_name": "Python 3",
   "language": "python",
   "name": "python3"
  },
  "language_info": {
   "codemirror_mode": {
    "name": "ipython",
    "version": 3
   },
   "file_extension": ".py",
   "mimetype": "text/x-python",
   "name": "python",
   "nbconvert_exporter": "python",
   "pygments_lexer": "ipython3",
   "version": "3.7.4"
  }
 },
 "nbformat": 4,
 "nbformat_minor": 4
}
