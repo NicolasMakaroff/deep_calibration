{
 "cells": [
  {
   "cell_type": "code",
   "execution_count": 1,
   "metadata": {},
   "outputs": [
    {
     "data": {
      "text/html": [
       "        <script type=\"text/javascript\">\n",
       "        window.PlotlyConfig = {MathJaxConfig: 'local'};\n",
       "        if (window.MathJax) {MathJax.Hub.Config({SVG: {font: \"STIX-Web\"}});}\n",
       "        if (typeof require !== 'undefined') {\n",
       "        require.undef(\"plotly\");\n",
       "        requirejs.config({\n",
       "            paths: {\n",
       "                'plotly': ['https://cdn.plot.ly/plotly-latest.min']\n",
       "            }\n",
       "        });\n",
       "        require(['plotly'], function(Plotly) {\n",
       "            window._Plotly = Plotly;\n",
       "        });\n",
       "        }\n",
       "        </script>\n",
       "        "
      ]
     },
     "metadata": {},
     "output_type": "display_data"
    }
   ],
   "source": [
    "# Standard library imports\n",
    "import numpy as np\n",
    "import pandas as pd\n",
    "import ast\n",
    "import os\n",
    "import sys\n",
    "from os.path import dirname as up\n",
    "from tqdm.notebook import tqdm\n",
    "\n",
    "# Important directories\n",
    "code_dir = os.path.dirname(os.getcwd())\n",
    "deep_cal_dir = os.path.dirname(os.path.dirname(os.getcwd()))\n",
    "\n",
    "# Allows to import my own module\n",
    "sys.path.insert(0, code_dir)\n",
    "\n",
    "from pricing.legacyliftedheston import Legacy_Pricer_Lifted_Heston\n",
    "import pricing_model\n",
    "from pricing.heston_fourier import price_heston_fourier\n",
    "from pricing.heston_mc import price_heston_mc\n",
    "\n",
    "from torch.utils.data import DataLoader\n",
    "from torch import nn, optim\n",
    "import torch\n",
    "import seaborn as sns\n",
    "\n",
    "from py_vollib.black_scholes.implied_volatility import implied_volatility\n",
    "from py_lets_be_rational.exceptions import BelowIntrinsicException\n",
    "\n",
    "from plotly.offline import download_plotlyjs, init_notebook_mode, plot, iplot\n",
    "init_notebook_mode(connected=True)\n",
    "import plotly.graph_objects as go"
   ]
  },
  {
   "cell_type": "code",
   "execution_count": 8,
   "metadata": {},
   "outputs": [],
   "source": [
    "import gzip\n",
    "f = gzip.GzipFile(deep_cal_dir+'/data/HestonTrainSet.txt.gz', \"r\")"
   ]
  },
  {
   "cell_type": "code",
   "execution_count": 9,
   "metadata": {},
   "outputs": [],
   "source": [
    "data = np.load(f)"
   ]
  },
  {
   "cell_type": "code",
   "execution_count": 12,
   "metadata": {},
   "outputs": [
    {
     "name": "stdout",
     "output_type": "stream",
     "text": [
      "(12000, 5)\n",
      "(12000, 88)\n"
     ]
    }
   ],
   "source": [
    "xx=data[:,:5]\n",
    "yy=data[:,5:]\n",
    "print(xx.shape)\n",
    "print(yy.shape)"
   ]
  },
  {
   "cell_type": "code",
   "execution_count": null,
   "metadata": {},
   "outputs": [],
   "source": []
  },
  {
   "cell_type": "code",
   "execution_count": null,
   "metadata": {},
   "outputs": [],
   "source": []
  },
  {
   "cell_type": "code",
   "execution_count": null,
   "metadata": {},
   "outputs": [],
   "source": []
  }
 ],
 "metadata": {
  "kernelspec": {
   "display_name": "Python 3",
   "language": "python",
   "name": "python3"
  },
  "language_info": {
   "codemirror_mode": {
    "name": "ipython",
    "version": 3
   },
   "file_extension": ".py",
   "mimetype": "text/x-python",
   "name": "python",
   "nbconvert_exporter": "python",
   "pygments_lexer": "ipython3",
   "version": "3.7.4"
  }
 },
 "nbformat": 4,
 "nbformat_minor": 4
}
